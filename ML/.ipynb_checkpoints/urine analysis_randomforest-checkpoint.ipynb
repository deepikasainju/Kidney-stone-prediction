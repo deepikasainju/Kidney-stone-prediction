{
 "cells": [
  {
   "cell_type": "code",
   "execution_count": 1,
   "id": "edbff6cc",
   "metadata": {},
   "outputs": [],
   "source": [
    "import pandas as pd\n",
    "import numpy as np\n",
    "import seaborn as sns\n",
    "import matplotlib.pyplot as plt"
   ]
  },
  {
   "cell_type": "code",
   "execution_count": 2,
   "id": "8b5c1d90",
   "metadata": {},
   "outputs": [
    {
     "data": {
      "text/html": [
       "<div>\n",
       "<style scoped>\n",
       "    .dataframe tbody tr th:only-of-type {\n",
       "        vertical-align: middle;\n",
       "    }\n",
       "\n",
       "    .dataframe tbody tr th {\n",
       "        vertical-align: top;\n",
       "    }\n",
       "\n",
       "    .dataframe thead th {\n",
       "        text-align: right;\n",
       "    }\n",
       "</style>\n",
       "<table border=\"1\" class=\"dataframe\">\n",
       "  <thead>\n",
       "    <tr style=\"text-align: right;\">\n",
       "      <th></th>\n",
       "      <th>gravity</th>\n",
       "      <th>ph</th>\n",
       "      <th>osmo</th>\n",
       "      <th>cond</th>\n",
       "      <th>urea</th>\n",
       "      <th>calc</th>\n",
       "      <th>target</th>\n",
       "    </tr>\n",
       "  </thead>\n",
       "  <tbody>\n",
       "    <tr>\n",
       "      <th>0</th>\n",
       "      <td>1.021000</td>\n",
       "      <td>4.910000</td>\n",
       "      <td>725</td>\n",
       "      <td>14.000000</td>\n",
       "      <td>443</td>\n",
       "      <td>2.450000</td>\n",
       "      <td>0</td>\n",
       "    </tr>\n",
       "    <tr>\n",
       "      <th>1</th>\n",
       "      <td>1.017000</td>\n",
       "      <td>5.740000</td>\n",
       "      <td>577</td>\n",
       "      <td>20.000000</td>\n",
       "      <td>296</td>\n",
       "      <td>4.490000</td>\n",
       "      <td>0</td>\n",
       "    </tr>\n",
       "    <tr>\n",
       "      <th>2</th>\n",
       "      <td>1.008000</td>\n",
       "      <td>7.200000</td>\n",
       "      <td>321</td>\n",
       "      <td>14.900000</td>\n",
       "      <td>101</td>\n",
       "      <td>2.360000</td>\n",
       "      <td>0</td>\n",
       "    </tr>\n",
       "    <tr>\n",
       "      <th>3</th>\n",
       "      <td>1.011000</td>\n",
       "      <td>5.510000</td>\n",
       "      <td>408</td>\n",
       "      <td>12.600000</td>\n",
       "      <td>224</td>\n",
       "      <td>2.150000</td>\n",
       "      <td>0</td>\n",
       "    </tr>\n",
       "    <tr>\n",
       "      <th>4</th>\n",
       "      <td>1.005000</td>\n",
       "      <td>6.520000</td>\n",
       "      <td>187</td>\n",
       "      <td>7.500000</td>\n",
       "      <td>91</td>\n",
       "      <td>1.160000</td>\n",
       "      <td>0</td>\n",
       "    </tr>\n",
       "    <tr>\n",
       "      <th>...</th>\n",
       "      <td>...</td>\n",
       "      <td>...</td>\n",
       "      <td>...</td>\n",
       "      <td>...</td>\n",
       "      <td>...</td>\n",
       "      <td>...</td>\n",
       "      <td>...</td>\n",
       "    </tr>\n",
       "    <tr>\n",
       "      <th>85</th>\n",
       "      <td>1.021452</td>\n",
       "      <td>5.556081</td>\n",
       "      <td>756</td>\n",
       "      <td>24.241481</td>\n",
       "      <td>367</td>\n",
       "      <td>7.669120</td>\n",
       "      <td>1</td>\n",
       "    </tr>\n",
       "    <tr>\n",
       "      <th>86</th>\n",
       "      <td>1.016501</td>\n",
       "      <td>6.900257</td>\n",
       "      <td>549</td>\n",
       "      <td>20.549790</td>\n",
       "      <td>204</td>\n",
       "      <td>5.775256</td>\n",
       "      <td>1</td>\n",
       "    </tr>\n",
       "    <tr>\n",
       "      <th>87</th>\n",
       "      <td>1.032754</td>\n",
       "      <td>5.443491</td>\n",
       "      <td>1085</td>\n",
       "      <td>23.188653</td>\n",
       "      <td>576</td>\n",
       "      <td>8.664169</td>\n",
       "      <td>1</td>\n",
       "    </tr>\n",
       "    <tr>\n",
       "      <th>88</th>\n",
       "      <td>1.023870</td>\n",
       "      <td>5.106433</td>\n",
       "      <td>325</td>\n",
       "      <td>12.124689</td>\n",
       "      <td>50</td>\n",
       "      <td>0.781620</td>\n",
       "      <td>1</td>\n",
       "    </tr>\n",
       "    <tr>\n",
       "      <th>89</th>\n",
       "      <td>1.013723</td>\n",
       "      <td>6.308943</td>\n",
       "      <td>472</td>\n",
       "      <td>16.907792</td>\n",
       "      <td>174</td>\n",
       "      <td>2.556405</td>\n",
       "      <td>1</td>\n",
       "    </tr>\n",
       "  </tbody>\n",
       "</table>\n",
       "<p>90 rows × 7 columns</p>\n",
       "</div>"
      ],
      "text/plain": [
       "     gravity        ph  osmo       cond  urea      calc  target\n",
       "0   1.021000  4.910000   725  14.000000   443  2.450000       0\n",
       "1   1.017000  5.740000   577  20.000000   296  4.490000       0\n",
       "2   1.008000  7.200000   321  14.900000   101  2.360000       0\n",
       "3   1.011000  5.510000   408  12.600000   224  2.150000       0\n",
       "4   1.005000  6.520000   187   7.500000    91  1.160000       0\n",
       "..       ...       ...   ...        ...   ...       ...     ...\n",
       "85  1.021452  5.556081   756  24.241481   367  7.669120       1\n",
       "86  1.016501  6.900257   549  20.549790   204  5.775256       1\n",
       "87  1.032754  5.443491  1085  23.188653   576  8.664169       1\n",
       "88  1.023870  5.106433   325  12.124689    50  0.781620       1\n",
       "89  1.013723  6.308943   472  16.907792   174  2.556405       1\n",
       "\n",
       "[90 rows x 7 columns]"
      ]
     },
     "execution_count": 2,
     "metadata": {},
     "output_type": "execute_result"
    }
   ],
   "source": [
    "dataset1=pd.read_csv('../datasets/kidney-stone-dataset.csv')\n",
    "dataset1 = dataset1.drop('Unnamed: 0', axis=1)\n",
    "dataset1"
   ]
  },
  {
   "cell_type": "code",
   "execution_count": 3,
   "id": "b91e3b54",
   "metadata": {},
   "outputs": [
    {
     "data": {
      "text/html": [
       "<div>\n",
       "<style scoped>\n",
       "    .dataframe tbody tr th:only-of-type {\n",
       "        vertical-align: middle;\n",
       "    }\n",
       "\n",
       "    .dataframe tbody tr th {\n",
       "        vertical-align: top;\n",
       "    }\n",
       "\n",
       "    .dataframe thead th {\n",
       "        text-align: right;\n",
       "    }\n",
       "</style>\n",
       "<table border=\"1\" class=\"dataframe\">\n",
       "  <thead>\n",
       "    <tr style=\"text-align: right;\">\n",
       "      <th></th>\n",
       "      <th>gravity</th>\n",
       "      <th>ph</th>\n",
       "      <th>osmo</th>\n",
       "      <th>cond</th>\n",
       "      <th>urea</th>\n",
       "      <th>calc</th>\n",
       "      <th>target</th>\n",
       "    </tr>\n",
       "  </thead>\n",
       "  <tbody>\n",
       "    <tr>\n",
       "      <th>0</th>\n",
       "      <td>1.013</td>\n",
       "      <td>6.19</td>\n",
       "      <td>443</td>\n",
       "      <td>14.8</td>\n",
       "      <td>124</td>\n",
       "      <td>1.45</td>\n",
       "      <td>0</td>\n",
       "    </tr>\n",
       "    <tr>\n",
       "      <th>1</th>\n",
       "      <td>1.025</td>\n",
       "      <td>5.40</td>\n",
       "      <td>703</td>\n",
       "      <td>23.6</td>\n",
       "      <td>394</td>\n",
       "      <td>4.18</td>\n",
       "      <td>0</td>\n",
       "    </tr>\n",
       "    <tr>\n",
       "      <th>2</th>\n",
       "      <td>1.009</td>\n",
       "      <td>6.13</td>\n",
       "      <td>371</td>\n",
       "      <td>24.5</td>\n",
       "      <td>159</td>\n",
       "      <td>9.04</td>\n",
       "      <td>0</td>\n",
       "    </tr>\n",
       "    <tr>\n",
       "      <th>3</th>\n",
       "      <td>1.021</td>\n",
       "      <td>4.91</td>\n",
       "      <td>442</td>\n",
       "      <td>20.8</td>\n",
       "      <td>398</td>\n",
       "      <td>6.63</td>\n",
       "      <td>1</td>\n",
       "    </tr>\n",
       "    <tr>\n",
       "      <th>4</th>\n",
       "      <td>1.021</td>\n",
       "      <td>5.53</td>\n",
       "      <td>874</td>\n",
       "      <td>17.8</td>\n",
       "      <td>385</td>\n",
       "      <td>2.21</td>\n",
       "      <td>1</td>\n",
       "    </tr>\n",
       "    <tr>\n",
       "      <th>...</th>\n",
       "      <td>...</td>\n",
       "      <td>...</td>\n",
       "      <td>...</td>\n",
       "      <td>...</td>\n",
       "      <td>...</td>\n",
       "      <td>...</td>\n",
       "      <td>...</td>\n",
       "    </tr>\n",
       "    <tr>\n",
       "      <th>409</th>\n",
       "      <td>1.011</td>\n",
       "      <td>5.21</td>\n",
       "      <td>527</td>\n",
       "      <td>21.4</td>\n",
       "      <td>75</td>\n",
       "      <td>1.53</td>\n",
       "      <td>0</td>\n",
       "    </tr>\n",
       "    <tr>\n",
       "      <th>410</th>\n",
       "      <td>1.024</td>\n",
       "      <td>5.53</td>\n",
       "      <td>577</td>\n",
       "      <td>19.7</td>\n",
       "      <td>224</td>\n",
       "      <td>0.77</td>\n",
       "      <td>0</td>\n",
       "    </tr>\n",
       "    <tr>\n",
       "      <th>411</th>\n",
       "      <td>1.018</td>\n",
       "      <td>6.28</td>\n",
       "      <td>455</td>\n",
       "      <td>22.2</td>\n",
       "      <td>270</td>\n",
       "      <td>7.68</td>\n",
       "      <td>1</td>\n",
       "    </tr>\n",
       "    <tr>\n",
       "      <th>412</th>\n",
       "      <td>1.008</td>\n",
       "      <td>7.12</td>\n",
       "      <td>325</td>\n",
       "      <td>12.6</td>\n",
       "      <td>75</td>\n",
       "      <td>1.03</td>\n",
       "      <td>1</td>\n",
       "    </tr>\n",
       "    <tr>\n",
       "      <th>413</th>\n",
       "      <td>1.011</td>\n",
       "      <td>6.13</td>\n",
       "      <td>364</td>\n",
       "      <td>9.9</td>\n",
       "      <td>159</td>\n",
       "      <td>0.27</td>\n",
       "      <td>0</td>\n",
       "    </tr>\n",
       "  </tbody>\n",
       "</table>\n",
       "<p>414 rows × 7 columns</p>\n",
       "</div>"
      ],
      "text/plain": [
       "     gravity    ph  osmo  cond  urea  calc  target\n",
       "0      1.013  6.19   443  14.8   124  1.45       0\n",
       "1      1.025  5.40   703  23.6   394  4.18       0\n",
       "2      1.009  6.13   371  24.5   159  9.04       0\n",
       "3      1.021  4.91   442  20.8   398  6.63       1\n",
       "4      1.021  5.53   874  17.8   385  2.21       1\n",
       "..       ...   ...   ...   ...   ...   ...     ...\n",
       "409    1.011  5.21   527  21.4    75  1.53       0\n",
       "410    1.024  5.53   577  19.7   224  0.77       0\n",
       "411    1.018  6.28   455  22.2   270  7.68       1\n",
       "412    1.008  7.12   325  12.6    75  1.03       1\n",
       "413    1.011  6.13   364   9.9   159  0.27       0\n",
       "\n",
       "[414 rows x 7 columns]"
      ]
     },
     "execution_count": 3,
     "metadata": {},
     "output_type": "execute_result"
    }
   ],
   "source": [
    "dataset2=pd.read_csv('../datasets/kidney_stone_data.csv')\n",
    "dataset2 = dataset2.drop('id', axis=1)\n",
    "dataset2"
   ]
  },
  {
   "cell_type": "code",
   "execution_count": 4,
   "id": "98d4f506",
   "metadata": {},
   "outputs": [
    {
     "data": {
      "text/html": [
       "<div>\n",
       "<style scoped>\n",
       "    .dataframe tbody tr th:only-of-type {\n",
       "        vertical-align: middle;\n",
       "    }\n",
       "\n",
       "    .dataframe tbody tr th {\n",
       "        vertical-align: top;\n",
       "    }\n",
       "\n",
       "    .dataframe thead th {\n",
       "        text-align: right;\n",
       "    }\n",
       "</style>\n",
       "<table border=\"1\" class=\"dataframe\">\n",
       "  <thead>\n",
       "    <tr style=\"text-align: right;\">\n",
       "      <th></th>\n",
       "      <th>gravity</th>\n",
       "      <th>ph</th>\n",
       "      <th>osmo</th>\n",
       "      <th>cond</th>\n",
       "      <th>urea</th>\n",
       "      <th>calc</th>\n",
       "      <th>target</th>\n",
       "    </tr>\n",
       "  </thead>\n",
       "  <tbody>\n",
       "    <tr>\n",
       "      <th>0</th>\n",
       "      <td>1.021</td>\n",
       "      <td>4.91</td>\n",
       "      <td>725</td>\n",
       "      <td>14.0</td>\n",
       "      <td>443</td>\n",
       "      <td>2.45</td>\n",
       "      <td>0</td>\n",
       "    </tr>\n",
       "    <tr>\n",
       "      <th>1</th>\n",
       "      <td>1.017</td>\n",
       "      <td>5.74</td>\n",
       "      <td>577</td>\n",
       "      <td>20.0</td>\n",
       "      <td>296</td>\n",
       "      <td>4.49</td>\n",
       "      <td>0</td>\n",
       "    </tr>\n",
       "    <tr>\n",
       "      <th>2</th>\n",
       "      <td>1.008</td>\n",
       "      <td>7.20</td>\n",
       "      <td>321</td>\n",
       "      <td>14.9</td>\n",
       "      <td>101</td>\n",
       "      <td>2.36</td>\n",
       "      <td>0</td>\n",
       "    </tr>\n",
       "    <tr>\n",
       "      <th>3</th>\n",
       "      <td>1.011</td>\n",
       "      <td>5.51</td>\n",
       "      <td>408</td>\n",
       "      <td>12.6</td>\n",
       "      <td>224</td>\n",
       "      <td>2.15</td>\n",
       "      <td>0</td>\n",
       "    </tr>\n",
       "    <tr>\n",
       "      <th>4</th>\n",
       "      <td>1.005</td>\n",
       "      <td>6.52</td>\n",
       "      <td>187</td>\n",
       "      <td>7.5</td>\n",
       "      <td>91</td>\n",
       "      <td>1.16</td>\n",
       "      <td>0</td>\n",
       "    </tr>\n",
       "    <tr>\n",
       "      <th>...</th>\n",
       "      <td>...</td>\n",
       "      <td>...</td>\n",
       "      <td>...</td>\n",
       "      <td>...</td>\n",
       "      <td>...</td>\n",
       "      <td>...</td>\n",
       "      <td>...</td>\n",
       "    </tr>\n",
       "    <tr>\n",
       "      <th>74</th>\n",
       "      <td>1.025</td>\n",
       "      <td>7.90</td>\n",
       "      <td>721</td>\n",
       "      <td>23.6</td>\n",
       "      <td>301</td>\n",
       "      <td>9.04</td>\n",
       "      <td>1</td>\n",
       "    </tr>\n",
       "    <tr>\n",
       "      <th>75</th>\n",
       "      <td>1.017</td>\n",
       "      <td>4.81</td>\n",
       "      <td>410</td>\n",
       "      <td>13.3</td>\n",
       "      <td>195</td>\n",
       "      <td>0.58</td>\n",
       "      <td>1</td>\n",
       "    </tr>\n",
       "    <tr>\n",
       "      <th>76</th>\n",
       "      <td>1.024</td>\n",
       "      <td>5.40</td>\n",
       "      <td>803</td>\n",
       "      <td>21.8</td>\n",
       "      <td>394</td>\n",
       "      <td>7.82</td>\n",
       "      <td>1</td>\n",
       "    </tr>\n",
       "    <tr>\n",
       "      <th>77</th>\n",
       "      <td>1.016</td>\n",
       "      <td>6.81</td>\n",
       "      <td>594</td>\n",
       "      <td>21.4</td>\n",
       "      <td>255</td>\n",
       "      <td>12.20</td>\n",
       "      <td>1</td>\n",
       "    </tr>\n",
       "    <tr>\n",
       "      <th>78</th>\n",
       "      <td>1.015</td>\n",
       "      <td>6.03</td>\n",
       "      <td>416</td>\n",
       "      <td>12.8</td>\n",
       "      <td>178</td>\n",
       "      <td>9.39</td>\n",
       "      <td>1</td>\n",
       "    </tr>\n",
       "  </tbody>\n",
       "</table>\n",
       "<p>79 rows × 7 columns</p>\n",
       "</div>"
      ],
      "text/plain": [
       "    gravity    ph  osmo  cond  urea   calc  target\n",
       "0     1.021  4.91   725  14.0   443   2.45       0\n",
       "1     1.017  5.74   577  20.0   296   4.49       0\n",
       "2     1.008  7.20   321  14.9   101   2.36       0\n",
       "3     1.011  5.51   408  12.6   224   2.15       0\n",
       "4     1.005  6.52   187   7.5    91   1.16       0\n",
       "..      ...   ...   ...   ...   ...    ...     ...\n",
       "74    1.025  7.90   721  23.6   301   9.04       1\n",
       "75    1.017  4.81   410  13.3   195   0.58       1\n",
       "76    1.024  5.40   803  21.8   394   7.82       1\n",
       "77    1.016  6.81   594  21.4   255  12.20       1\n",
       "78    1.015  6.03   416  12.8   178   9.39       1\n",
       "\n",
       "[79 rows x 7 columns]"
      ]
     },
     "execution_count": 4,
     "metadata": {},
     "output_type": "execute_result"
    }
   ],
   "source": [
    "dataset3=pd.read_csv('../datasets/kindey stone urine analysis.csv')\n",
    "dataset3"
   ]
  },
  {
   "cell_type": "code",
   "execution_count": 5,
   "id": "b0d6f6ac",
   "metadata": {
    "scrolled": true
   },
   "outputs": [
    {
     "data": {
      "text/html": [
       "<div>\n",
       "<style scoped>\n",
       "    .dataframe tbody tr th:only-of-type {\n",
       "        vertical-align: middle;\n",
       "    }\n",
       "\n",
       "    .dataframe tbody tr th {\n",
       "        vertical-align: top;\n",
       "    }\n",
       "\n",
       "    .dataframe thead th {\n",
       "        text-align: right;\n",
       "    }\n",
       "</style>\n",
       "<table border=\"1\" class=\"dataframe\">\n",
       "  <thead>\n",
       "    <tr style=\"text-align: right;\">\n",
       "      <th></th>\n",
       "      <th>gravity</th>\n",
       "      <th>ph</th>\n",
       "      <th>osmo</th>\n",
       "      <th>cond</th>\n",
       "      <th>urea</th>\n",
       "      <th>calc</th>\n",
       "      <th>target</th>\n",
       "    </tr>\n",
       "  </thead>\n",
       "  <tbody>\n",
       "    <tr>\n",
       "      <th>0</th>\n",
       "      <td>1.021</td>\n",
       "      <td>4.91</td>\n",
       "      <td>725</td>\n",
       "      <td>14.0</td>\n",
       "      <td>443</td>\n",
       "      <td>2.45</td>\n",
       "      <td>0</td>\n",
       "    </tr>\n",
       "    <tr>\n",
       "      <th>1</th>\n",
       "      <td>1.017</td>\n",
       "      <td>5.74</td>\n",
       "      <td>577</td>\n",
       "      <td>20.0</td>\n",
       "      <td>296</td>\n",
       "      <td>4.49</td>\n",
       "      <td>0</td>\n",
       "    </tr>\n",
       "    <tr>\n",
       "      <th>2</th>\n",
       "      <td>1.008</td>\n",
       "      <td>7.20</td>\n",
       "      <td>321</td>\n",
       "      <td>14.9</td>\n",
       "      <td>101</td>\n",
       "      <td>2.36</td>\n",
       "      <td>0</td>\n",
       "    </tr>\n",
       "    <tr>\n",
       "      <th>3</th>\n",
       "      <td>1.011</td>\n",
       "      <td>5.51</td>\n",
       "      <td>408</td>\n",
       "      <td>12.6</td>\n",
       "      <td>224</td>\n",
       "      <td>2.15</td>\n",
       "      <td>0</td>\n",
       "    </tr>\n",
       "    <tr>\n",
       "      <th>4</th>\n",
       "      <td>1.005</td>\n",
       "      <td>6.52</td>\n",
       "      <td>187</td>\n",
       "      <td>7.5</td>\n",
       "      <td>91</td>\n",
       "      <td>1.16</td>\n",
       "      <td>0</td>\n",
       "    </tr>\n",
       "    <tr>\n",
       "      <th>...</th>\n",
       "      <td>...</td>\n",
       "      <td>...</td>\n",
       "      <td>...</td>\n",
       "      <td>...</td>\n",
       "      <td>...</td>\n",
       "      <td>...</td>\n",
       "      <td>...</td>\n",
       "    </tr>\n",
       "    <tr>\n",
       "      <th>578</th>\n",
       "      <td>1.025</td>\n",
       "      <td>7.90</td>\n",
       "      <td>721</td>\n",
       "      <td>23.6</td>\n",
       "      <td>301</td>\n",
       "      <td>9.04</td>\n",
       "      <td>1</td>\n",
       "    </tr>\n",
       "    <tr>\n",
       "      <th>579</th>\n",
       "      <td>1.017</td>\n",
       "      <td>4.81</td>\n",
       "      <td>410</td>\n",
       "      <td>13.3</td>\n",
       "      <td>195</td>\n",
       "      <td>0.58</td>\n",
       "      <td>1</td>\n",
       "    </tr>\n",
       "    <tr>\n",
       "      <th>580</th>\n",
       "      <td>1.024</td>\n",
       "      <td>5.40</td>\n",
       "      <td>803</td>\n",
       "      <td>21.8</td>\n",
       "      <td>394</td>\n",
       "      <td>7.82</td>\n",
       "      <td>1</td>\n",
       "    </tr>\n",
       "    <tr>\n",
       "      <th>581</th>\n",
       "      <td>1.016</td>\n",
       "      <td>6.81</td>\n",
       "      <td>594</td>\n",
       "      <td>21.4</td>\n",
       "      <td>255</td>\n",
       "      <td>12.20</td>\n",
       "      <td>1</td>\n",
       "    </tr>\n",
       "    <tr>\n",
       "      <th>582</th>\n",
       "      <td>1.015</td>\n",
       "      <td>6.03</td>\n",
       "      <td>416</td>\n",
       "      <td>12.8</td>\n",
       "      <td>178</td>\n",
       "      <td>9.39</td>\n",
       "      <td>1</td>\n",
       "    </tr>\n",
       "  </tbody>\n",
       "</table>\n",
       "<p>583 rows × 7 columns</p>\n",
       "</div>"
      ],
      "text/plain": [
       "     gravity    ph  osmo  cond  urea   calc  target\n",
       "0      1.021  4.91   725  14.0   443   2.45       0\n",
       "1      1.017  5.74   577  20.0   296   4.49       0\n",
       "2      1.008  7.20   321  14.9   101   2.36       0\n",
       "3      1.011  5.51   408  12.6   224   2.15       0\n",
       "4      1.005  6.52   187   7.5    91   1.16       0\n",
       "..       ...   ...   ...   ...   ...    ...     ...\n",
       "578    1.025  7.90   721  23.6   301   9.04       1\n",
       "579    1.017  4.81   410  13.3   195   0.58       1\n",
       "580    1.024  5.40   803  21.8   394   7.82       1\n",
       "581    1.016  6.81   594  21.4   255  12.20       1\n",
       "582    1.015  6.03   416  12.8   178   9.39       1\n",
       "\n",
       "[583 rows x 7 columns]"
      ]
     },
     "execution_count": 5,
     "metadata": {},
     "output_type": "execute_result"
    }
   ],
   "source": [
    "combined_df=pd.concat([dataset1, dataset2,dataset3], ignore_index=True)\n",
    "df=combined_df.copy()\n",
    "df"
   ]
  },
  {
   "cell_type": "code",
   "execution_count": 6,
   "id": "6e2a5c88",
   "metadata": {},
   "outputs": [
    {
     "data": {
      "text/plain": [
       "(583, 7)"
      ]
     },
     "execution_count": 6,
     "metadata": {},
     "output_type": "execute_result"
    }
   ],
   "source": [
    "df.shape"
   ]
  },
  {
   "cell_type": "code",
   "execution_count": 7,
   "id": "6a5901b0",
   "metadata": {},
   "outputs": [
    {
     "data": {
      "text/plain": [
       "gravity    0\n",
       "ph         0\n",
       "osmo       0\n",
       "cond       0\n",
       "urea       0\n",
       "calc       0\n",
       "target     0\n",
       "dtype: int64"
      ]
     },
     "execution_count": 7,
     "metadata": {},
     "output_type": "execute_result"
    }
   ],
   "source": [
    "df.isnull().sum()"
   ]
  },
  {
   "cell_type": "code",
   "execution_count": 8,
   "id": "466d1423",
   "metadata": {},
   "outputs": [
    {
     "name": "stdout",
     "output_type": "stream",
     "text": [
      "<class 'pandas.core.frame.DataFrame'>\n",
      "RangeIndex: 583 entries, 0 to 582\n",
      "Data columns (total 7 columns):\n",
      " #   Column   Non-Null Count  Dtype  \n",
      "---  ------   --------------  -----  \n",
      " 0   gravity  583 non-null    float64\n",
      " 1   ph       583 non-null    float64\n",
      " 2   osmo     583 non-null    int64  \n",
      " 3   cond     583 non-null    float64\n",
      " 4   urea     583 non-null    int64  \n",
      " 5   calc     583 non-null    float64\n",
      " 6   target   583 non-null    int64  \n",
      "dtypes: float64(4), int64(3)\n",
      "memory usage: 32.0 KB\n"
     ]
    }
   ],
   "source": [
    "df.info()"
   ]
  },
  {
   "cell_type": "code",
   "execution_count": 9,
   "id": "5078b682",
   "metadata": {},
   "outputs": [
    {
     "data": {
      "text/plain": [
       "77"
      ]
     },
     "execution_count": 9,
     "metadata": {},
     "output_type": "execute_result"
    }
   ],
   "source": [
    "df.duplicated().sum()"
   ]
  },
  {
   "cell_type": "code",
   "execution_count": 10,
   "id": "e4fb7a34",
   "metadata": {},
   "outputs": [],
   "source": [
    "df = df.drop_duplicates()"
   ]
  },
  {
   "cell_type": "code",
   "execution_count": 11,
   "id": "9de31447",
   "metadata": {},
   "outputs": [
    {
     "data": {
      "text/plain": [
       "0"
      ]
     },
     "execution_count": 11,
     "metadata": {},
     "output_type": "execute_result"
    }
   ],
   "source": [
    "df.duplicated().sum()"
   ]
  },
  {
   "cell_type": "code",
   "execution_count": 12,
   "id": "62c7e9f1",
   "metadata": {},
   "outputs": [
    {
     "data": {
      "text/plain": [
       "<Axes: xlabel='target', ylabel='count'>"
      ]
     },
     "execution_count": 12,
     "metadata": {},
     "output_type": "execute_result"
    },
    {
     "data": {
      "image/png": "[encoded data removed]",
      "text/plain": [
       "<Figure size 640x480 with 1 Axes>"
      ]
     },
     "metadata": {},
     "output_type": "display_data"
    }
   ],
   "source": [
    "import seaborn as sns\n",
    "sns.countplot(x='target',data=df)"
   ]
  },
  {
   "cell_type": "code",
   "execution_count": 13,
   "id": "77c2a8cb",
   "metadata": {},
   "outputs": [
    {
     "data": {
      "text/plain": [
       "<Axes: xlabel='gravity'>"
      ]
     },
     "execution_count": 13,
     "metadata": {},
     "output_type": "execute_result"
    },
    {
     "data": {
      "image/png": "[encoded data removed]",
      "text/plain": [
       "<Figure size 640x480 with 1 Axes>"
      ]
     },
     "metadata": {},
     "output_type": "display_data"
    }
   ],
   "source": [
    "import seaborn as sns\n",
    "sns.boxplot(data=combined_df, x='gravity')"
   ]
  },
  {
   "cell_type": "code",
   "execution_count": 14,
   "id": "d1902988",
   "metadata": {},
   "outputs": [
    {
     "data": {
      "text/plain": [
       "<Axes: xlabel='ph'>"
      ]
     },
     "execution_count": 14,
     "metadata": {},
     "output_type": "execute_result"
    },
    {
     "data": {
      "image/png": "[encoded data removed]",
      "text/plain": [
       "<Figure size 640x480 with 1 Axes>"
      ]
     },
     "metadata": {},
     "output_type": "display_data"
    }
   ],
   "source": [
    "sns.boxplot(data=combined_df, x='ph')"
   ]
  },
  {
   "cell_type": "code",
   "execution_count": 15,
   "id": "129bd74d",
   "metadata": {},
   "outputs": [
    {
     "data": {
      "text/plain": [
       "<Axes: xlabel='osmo'>"
      ]
     },
     "execution_count": 15,
     "metadata": {},
     "output_type": "execute_result"
    },
    {
     "data": {
      "image/png": "[encoded data removed]",
      "text/plain": [
       "<Figure size 640x480 with 1 Axes>"
      ]
     },
     "metadata": {},
     "output_type": "display_data"
    }
   ],
   "source": [
    "sns.boxplot(data=combined_df, x='osmo')"
   ]
  },
  {
   "cell_type": "code",
   "execution_count": 16,
   "id": "4d629430",
   "metadata": {},
   "outputs": [
    {
     "data": {
      "text/plain": [
       "<Axes: xlabel='cond'>"
      ]
     },
     "execution_count": 16,
     "metadata": {},
     "output_type": "execute_result"
    },
    {
     "data": {
      "image/png": "[encoded data removed]",
      "text/plain": [
       "<Figure size 640x480 with 1 Axes>"
      ]
     },
     "metadata": {},
     "output_type": "display_data"
    }
   ],
   "source": [
    "sns.boxplot(data=combined_df, x='cond')"
   ]
  },
  {
   "cell_type": "code",
   "execution_count": 17,
   "id": "2be87d19",
   "metadata": {},
   "outputs": [
    {
     "data": {
      "text/plain": [
       "<Axes: xlabel='urea'>"
      ]
     },
     "execution_count": 17,
     "metadata": {},
     "output_type": "execute_result"
    },
    {
     "data": {
      "image/png": "[encoded data removed]",
      "text/plain": [
       "<Figure size 640x480 with 1 Axes>"
      ]
     },
     "metadata": {},
     "output_type": "display_data"
    }
   ],
   "source": [
    "sns.boxplot(data=combined_df, x='urea')"
   ]
  },
  {
   "cell_type": "code",
   "execution_count": 18,
   "id": "edcd4e05",
   "metadata": {},
   "outputs": [
    {
     "data": {
      "text/plain": [
       "<Axes: xlabel='calc'>"
      ]
     },
     "execution_count": 18,
     "metadata": {},
     "output_type": "execute_result"
    },
    {
     "data": {
      "image/png": "[encoded data removed]",
      "text/plain": [
       "<Figure size 640x480 with 1 Axes>"
      ]
     },
     "metadata": {},
     "output_type": "display_data"
    }
   ],
   "source": [
    "sns.boxplot(data=combined_df, x='calc')"
   ]
  },
  {
   "cell_type": "markdown",
   "id": "1ada0b47",
   "metadata": {},
   "source": [
    "# Handling outliers"
   ]
  },
  {
   "cell_type": "code",
   "execution_count": null,
   "id": "5203ff33",
   "metadata": {},
   "outputs": [],
   "source": []
  },
  {
   "cell_type": "code",
   "execution_count": 19,
   "id": "80436027",
   "metadata": {},
   "outputs": [],
   "source": [
    "columns = ['gravity', 'ph', 'calc']"
   ]
  },
  {
   "cell_type": "code",
   "execution_count": 20,
   "id": "b3533297",
   "metadata": {},
   "outputs": [
    {
     "name": "stderr",
     "output_type": "stream",
     "text": [
      "C:\\Users\\Dell\\AppData\\Local\\Temp\\ipykernel_14004\\3935736073.py:11: SettingWithCopyWarning: \n",
      "A value is trying to be set on a copy of a slice from a DataFrame.\n",
      "Try using .loc[row_indexer,col_indexer] = value instead\n",
      "\n",
      "See the caveats in the documentation: https://pandas.pydata.org/pandas-docs/stable/user_guide/indexing.html#returning-a-view-versus-a-copy\n",
      "  df[col] = np.where(df[col] < lower_whisker, lower_whisker,\n",
      "C:\\Users\\Dell\\AppData\\Local\\Temp\\ipykernel_14004\\3935736073.py:11: SettingWithCopyWarning: \n",
      "A value is trying to be set on a copy of a slice from a DataFrame.\n",
      "Try using .loc[row_indexer,col_indexer] = value instead\n",
      "\n",
      "See the caveats in the documentation: https://pandas.pydata.org/pandas-docs/stable/user_guide/indexing.html#returning-a-view-versus-a-copy\n",
      "  df[col] = np.where(df[col] < lower_whisker, lower_whisker,\n",
      "C:\\Users\\Dell\\AppData\\Local\\Temp\\ipykernel_14004\\3935736073.py:11: SettingWithCopyWarning: \n",
      "A value is trying to be set on a copy of a slice from a DataFrame.\n",
      "Try using .loc[row_indexer,col_indexer] = value instead\n",
      "\n",
      "See the caveats in the documentation: https://pandas.pydata.org/pandas-docs/stable/user_guide/indexing.html#returning-a-view-versus-a-copy\n",
      "  df[col] = np.where(df[col] < lower_whisker, lower_whisker,\n"
     ]
    }
   ],
   "source": [
    "for col in columns:\n",
    "    Q1 = df[col].quantile(0.25)\n",
    "    Q3 = df[col].quantile(0.75)\n",
    "    IQR = Q3 - Q1\n",
    "\n",
    "    # Define lower and upper whisker values\n",
    "    lower_whisker = Q1 - 1.5 * IQR\n",
    "    upper_whisker = Q3 + 1.5 * IQR\n",
    "\n",
    "    # Cap the outliers at the whisker values\n",
    "    df[col] = np.where(df[col] < lower_whisker, lower_whisker, \n",
    "                       np.where(df[col] > upper_whisker, upper_whisker, df[col]))\n"
   ]
  },
  {
   "cell_type": "code",
   "execution_count": 21,
   "id": "2777404e",
   "metadata": {},
   "outputs": [
    {
     "data": {
      "image/png": "[encoded data removed]",
      "text/plain": [
       "<Figure size 1500x800 with 3 Axes>"
      ]
     },
     "metadata": {},
     "output_type": "display_data"
    }
   ],
   "source": [
    "plt.figure(figsize=(15, 8))\n",
    "for i, col in enumerate(columns, 1):\n",
    "    plt.subplot(2, 3, i)  # Adjust the layout as needed\n",
    "    sns.boxplot(data=df, x=col)\n",
    "    plt.title(f'Boxplot of {col}')\n",
    "\n",
    "plt.tight_layout()\n",
    "plt.show()"
   ]
  },
  {
   "cell_type": "code",
   "execution_count": null,
   "id": "d4bf94bb",
   "metadata": {},
   "outputs": [],
   "source": []
  },
  {
   "cell_type": "markdown",
   "id": "6d3ccf56",
   "metadata": {},
   "source": [
    "# split"
   ]
  },
  {
   "cell_type": "code",
   "execution_count": 22,
   "id": "11dae84b",
   "metadata": {},
   "outputs": [],
   "source": [
    "from sklearn.model_selection import train_test_split\n",
    "X=df.drop(['target'],axis=1)\n",
    "Y=df['target']"
   ]
  },
  {
   "cell_type": "code",
   "execution_count": 23,
   "id": "67a3d044",
   "metadata": {},
   "outputs": [
    {
     "data": {
      "text/html": [
       "<div>\n",
       "<style scoped>\n",
       "    .dataframe tbody tr th:only-of-type {\n",
       "        vertical-align: middle;\n",
       "    }\n",
       "\n",
       "    .dataframe tbody tr th {\n",
       "        vertical-align: top;\n",
       "    }\n",
       "\n",
       "    .dataframe thead th {\n",
       "        text-align: right;\n",
       "    }\n",
       "</style>\n",
       "<table border=\"1\" class=\"dataframe\">\n",
       "  <thead>\n",
       "    <tr style=\"text-align: right;\">\n",
       "      <th></th>\n",
       "      <th>gravity</th>\n",
       "      <th>ph</th>\n",
       "      <th>osmo</th>\n",
       "      <th>cond</th>\n",
       "      <th>urea</th>\n",
       "      <th>calc</th>\n",
       "    </tr>\n",
       "  </thead>\n",
       "  <tbody>\n",
       "    <tr>\n",
       "      <th>0</th>\n",
       "      <td>1.021</td>\n",
       "      <td>4.91</td>\n",
       "      <td>725</td>\n",
       "      <td>14.0</td>\n",
       "      <td>443</td>\n",
       "      <td>2.45</td>\n",
       "    </tr>\n",
       "    <tr>\n",
       "      <th>1</th>\n",
       "      <td>1.017</td>\n",
       "      <td>5.74</td>\n",
       "      <td>577</td>\n",
       "      <td>20.0</td>\n",
       "      <td>296</td>\n",
       "      <td>4.49</td>\n",
       "    </tr>\n",
       "    <tr>\n",
       "      <th>2</th>\n",
       "      <td>1.008</td>\n",
       "      <td>7.20</td>\n",
       "      <td>321</td>\n",
       "      <td>14.9</td>\n",
       "      <td>101</td>\n",
       "      <td>2.36</td>\n",
       "    </tr>\n",
       "    <tr>\n",
       "      <th>3</th>\n",
       "      <td>1.011</td>\n",
       "      <td>5.51</td>\n",
       "      <td>408</td>\n",
       "      <td>12.6</td>\n",
       "      <td>224</td>\n",
       "      <td>2.15</td>\n",
       "    </tr>\n",
       "    <tr>\n",
       "      <th>4</th>\n",
       "      <td>1.005</td>\n",
       "      <td>6.52</td>\n",
       "      <td>187</td>\n",
       "      <td>7.5</td>\n",
       "      <td>91</td>\n",
       "      <td>1.16</td>\n",
       "    </tr>\n",
       "    <tr>\n",
       "      <th>...</th>\n",
       "      <td>...</td>\n",
       "      <td>...</td>\n",
       "      <td>...</td>\n",
       "      <td>...</td>\n",
       "      <td>...</td>\n",
       "      <td>...</td>\n",
       "    </tr>\n",
       "    <tr>\n",
       "      <th>501</th>\n",
       "      <td>1.018</td>\n",
       "      <td>6.28</td>\n",
       "      <td>455</td>\n",
       "      <td>22.2</td>\n",
       "      <td>270</td>\n",
       "      <td>7.68</td>\n",
       "    </tr>\n",
       "    <tr>\n",
       "      <th>502</th>\n",
       "      <td>1.008</td>\n",
       "      <td>7.12</td>\n",
       "      <td>325</td>\n",
       "      <td>12.6</td>\n",
       "      <td>75</td>\n",
       "      <td>1.03</td>\n",
       "    </tr>\n",
       "    <tr>\n",
       "      <th>503</th>\n",
       "      <td>1.011</td>\n",
       "      <td>6.13</td>\n",
       "      <td>364</td>\n",
       "      <td>9.9</td>\n",
       "      <td>159</td>\n",
       "      <td>0.27</td>\n",
       "    </tr>\n",
       "    <tr>\n",
       "      <th>554</th>\n",
       "      <td>1.026</td>\n",
       "      <td>5.16</td>\n",
       "      <td>822</td>\n",
       "      <td>26.0</td>\n",
       "      <td>301</td>\n",
       "      <td>14.34</td>\n",
       "    </tr>\n",
       "    <tr>\n",
       "      <th>562</th>\n",
       "      <td>1.037</td>\n",
       "      <td>6.28</td>\n",
       "      <td>838</td>\n",
       "      <td>14.3</td>\n",
       "      <td>486</td>\n",
       "      <td>8.28</td>\n",
       "    </tr>\n",
       "  </tbody>\n",
       "</table>\n",
       "<p>506 rows × 6 columns</p>\n",
       "</div>"
      ],
      "text/plain": [
       "     gravity    ph  osmo  cond  urea   calc\n",
       "0      1.021  4.91   725  14.0   443   2.45\n",
       "1      1.017  5.74   577  20.0   296   4.49\n",
       "2      1.008  7.20   321  14.9   101   2.36\n",
       "3      1.011  5.51   408  12.6   224   2.15\n",
       "4      1.005  6.52   187   7.5    91   1.16\n",
       "..       ...   ...   ...   ...   ...    ...\n",
       "501    1.018  6.28   455  22.2   270   7.68\n",
       "502    1.008  7.12   325  12.6    75   1.03\n",
       "503    1.011  6.13   364   9.9   159   0.27\n",
       "554    1.026  5.16   822  26.0   301  14.34\n",
       "562    1.037  6.28   838  14.3   486   8.28\n",
       "\n",
       "[506 rows x 6 columns]"
      ]
     },
     "execution_count": 23,
     "metadata": {},
     "output_type": "execute_result"
    }
   ],
   "source": [
    "X"
   ]
  },
  {
   "cell_type": "code",
   "execution_count": 24,
   "id": "dd26567b",
   "metadata": {},
   "outputs": [],
   "source": [
    "X_train, X_test, y_train, y_test = train_test_split(X, Y, test_size=0.2, random_state=42)"
   ]
  },
  {
   "cell_type": "markdown",
   "id": "6764ea6d-4baf-40ef-9d35-224594e35441",
   "metadata": {},
   "source": [
    "# Random Forest"
   ]
  },
  {
   "cell_type": "code",
   "execution_count": 25,
   "id": "9f376b19",
   "metadata": {},
   "outputs": [],
   "source": [
    "from sklearn.tree import DecisionTreeClassifier"
   ]
  },
  {
   "cell_type": "code",
   "execution_count": 26,
   "id": "ac0a17a8-13a2-43d4-8d81-b5e25bc719f3",
   "metadata": {},
   "outputs": [],
   "source": [
    "class RandomForestClassifierScratch:\n",
    "    def __init__(self, n_estimators=100, max_features=None, max_depth=None):\n",
    "        self.n_estimators = n_estimators  # Number of trees in the forest\n",
    "        self.max_features = max_features  # Max features to consider for splits\n",
    "        self.max_depth = max_depth        # Max depth of each tree\n",
    "        self.trees = []                   # List to hold the trees\n",
    "\n",
    "    def _bootstrap_sample(self, X, y):\n",
    "        n_samples = X.shape[0]\n",
    "        # Sample with replacement\n",
    "        indices = np.random.choice(n_samples, size=n_samples, replace=True)\n",
    "        return X.iloc[indices], y.iloc[indices]\n",
    "\n",
    "    def fit(self, X, y):\n",
    "        # Fit multiple decision trees to create the random forest\n",
    "        for _ in range(self.n_estimators):\n",
    "            tree = DecisionTreeClassifier(max_features=self.max_features, max_depth=self.max_depth)\n",
    "            # Bootstrap sample\n",
    "            X_sample, y_sample = self._bootstrap_sample(X, y)\n",
    "            tree.fit(X_sample, y_sample)\n",
    "            self.trees.append(tree)\n",
    "\n",
    "    def predict(self, X):\n",
    "        # Get predictions from all trees\n",
    "        tree_preds = np.zeros((X.shape[0], len(self.trees)))\n",
    "        for i, tree in enumerate(self.trees):\n",
    "            tree_preds[:, i] = tree.predict(X)\n",
    "        # Majority voting: most common prediction from all trees\n",
    "        return [np.bincount(tree_preds[i].astype(int)).argmax() for i in range(X.shape[0])]\n",
    "\n",
    "    def predict_proba(self, X):\n",
    "        \"\"\"Predict probabilities of kidney stones using the ensemble of trees.\n",
    "        \n",
    "        This method averages the class probabilities predicted by each tree \n",
    "        in the forest to provide the final probability estimate of having kidney stones \n",
    "        (class 1) for each sample.\n",
    "\n",
    "        Args:\n",
    "            X: Input features for which to predict the probabilities.\n",
    "\n",
    "        Returns:\n",
    "            A numpy array of shape (n_samples, 1), where each row \n",
    "            contains the predicted probability of having kidney stones (class 1).\n",
    "        \"\"\"\n",
    "        # Get probability estimates from all trees\n",
    "        tree_probs = np.zeros((X.shape[0], len(self.trees), 2))  # Two classes: 0 (no kidney stone), 1 (kidney stone)\n",
    "        for i, tree in enumerate(self.trees):\n",
    "            tree_probs[:, i, :] = tree.predict_proba(X)\n",
    "        # Average probabilities from all trees (probability of class 1 - kidney stones)\n",
    "        return np.mean(tree_probs[:, :, 1], axis=1).reshape(-1, 1)\n",
    "\n",
    "    def score(self, X, y):\n",
    "        # Return the accuracy of the random forest on the given dataset\n",
    "        y_pred = self.predict(X)\n",
    "        return accuracy_score(y, y_pred)\n"
   ]
  },
  {
   "cell_type": "code",
   "execution_count": 27,
   "id": "f46e0663-731c-4c08-ad35-afd046a27541",
   "metadata": {},
   "outputs": [],
   "source": [
    "# Initialize Random Forest Classifier\n",
    "rfc_scratch = RandomForestClassifierScratch(n_estimators=100, max_features=\"sqrt\", max_depth=10)\n",
    "\n",
    "# Train the model\n",
    "rfc_scratch.fit(X_train, y_train)\n",
    "\n",
    "# Make predictions\n",
    "y_pred = rfc_scratch.predict(X_test)\n",
    "\n"
   ]
  },
  {
   "cell_type": "code",
   "execution_count": 28,
   "id": "bcd8b97a",
   "metadata": {},
   "outputs": [
    {
     "name": "stdout",
     "output_type": "stream",
     "text": [
      "Accuracy: 0.8137254901960784\n",
      "Confusion Matrix:\n",
      " [[46  6]\n",
      " [13 37]]\n",
      "Classification Report:\n",
      "               precision    recall  f1-score   support\n",
      "\n",
      "           0       0.78      0.88      0.83        52\n",
      "           1       0.86      0.74      0.80        50\n",
      "\n",
      "    accuracy                           0.81       102\n",
      "   macro avg       0.82      0.81      0.81       102\n",
      "weighted avg       0.82      0.81      0.81       102\n",
      "\n"
     ]
    }
   ],
   "source": [
    "from sklearn.metrics import accuracy_score, precision_score, recall_score, f1_score, confusion_matrix, classification_report\n",
    "print('Accuracy:', accuracy_score(y_test, y_pred))\n",
    "print('Confusion Matrix:\\n', confusion_matrix(y_test, y_pred))\n",
    "print('Classification Report:\\n', classification_report(y_test, y_pred))"
   ]
  },
  {
   "cell_type": "code",
   "execution_count": 29,
   "id": "ce483951-6490-4649-ba37-e6624d545c6c",
   "metadata": {},
   "outputs": [
    {
     "name": "stdout",
     "output_type": "stream",
     "text": [
      "Accuracy: 0.8137254901960784\n",
      "Precision: 0.8604651162790697\n",
      "Recall: 0.74\n",
      "F1 Score: 0.7956989247311828\n"
     ]
    }
   ],
   "source": [
    "# evaluate the performance of the model using random forest classifier\n",
    "print('Accuracy:', accuracy_score(y_test, y_pred))\n",
    "print('Precision:', precision_score(y_test, y_pred))\n",
    "print('Recall:', recall_score(y_test, y_pred))\n",
    "print('F1 Score:', f1_score(y_test, y_pred))\n"
   ]
  },
  {
   "cell_type": "code",
   "execution_count": 30,
   "id": "f64bb0f8-28a5-4150-9a33-1591b244b1d3",
   "metadata": {},
   "outputs": [
    {
     "data": {
      "image/png": "[encoded data removed]",
      "text/plain": [
       "<Figure size 640x480 with 2 Axes>"
      ]
     },
     "metadata": {},
     "output_type": "display_data"
    }
   ],
   "source": [
    "from sklearn.metrics import ConfusionMatrixDisplay\n",
    "#confusion matrix\n",
    "cm = confusion_matrix(y_test,y_pred)\n",
    "\n",
    "#display\n",
    "display = ConfusionMatrixDisplay(confusion_matrix = cm,display_labels = [\"no stone\",\"stone\"])\n",
    "display.plot()\n",
    "plt.title(\"confusion matrix\")\n",
    "plt.show()"
   ]
  },
  {
   "cell_type": "code",
   "execution_count": null,
   "id": "301da403",
   "metadata": {},
   "outputs": [],
   "source": []
  },
  {
   "cell_type": "markdown",
   "id": "757efdeb",
   "metadata": {},
   "source": [
    "# Visualization"
   ]
  },
  {
   "cell_type": "code",
   "execution_count": 31,
   "id": "2807ce20",
   "metadata": {},
   "outputs": [],
   "source": [
    "results_df = pd.DataFrame({\n",
    "    'Actual': y_test.values,\n",
    "    'Predicted': y_pred\n",
    "})"
   ]
  },
  {
   "cell_type": "code",
   "execution_count": 32,
   "id": "9a5b2211",
   "metadata": {},
   "outputs": [],
   "source": [
    "# Create counts for Actual and Predicted\n",
    "actual_counts = results_df['Actual'].value_counts().reset_index()\n",
    "actual_counts.columns = ['Category', 'Count']\n",
    "predicted_counts = results_df['Predicted'].value_counts().reset_index()\n",
    "predicted_counts.columns = ['Category', 'Count']"
   ]
  },
  {
   "cell_type": "code",
   "execution_count": 33,
   "id": "f6f0e35e",
   "metadata": {},
   "outputs": [
    {
     "data": {
      "image/png": "[encoded data removed]",
      "text/plain": [
       "<Figure size 1200x500 with 2 Axes>"
      ]
     },
     "metadata": {},
     "output_type": "display_data"
    }
   ],
   "source": [
    "# Create side-by-side bar plots using Seaborn\n",
    "fig, axes = plt.subplots(1, 2, figsize=(12, 5), sharey=True)\n",
    "\n",
    "# Plot Predicted Categories\n",
    "sns.barplot(data=predicted_counts, x='Category', y='Count', ax=axes[0], palette='Blues_d')\n",
    "axes[0].set_title('Predicted Categories')\n",
    "axes[0].set_xlabel('Category')\n",
    "axes[0].set_ylabel('Count')\n",
    "\n",
    "# Plot Actual Categories\n",
    "sns.barplot(data=actual_counts, x='Category', y='Count', ax=axes[1], palette='Greens_d')\n",
    "axes[1].set_title('Actual Categories')\n",
    "axes[1].set_xlabel('Category')\n",
    "\n",
    "# Adjust layout to prevent overlap\n",
    "plt.tight_layout()\n",
    "\n",
    "# Show the plots\n",
    "plt.show()"
   ]
  },
  {
   "cell_type": "code",
   "execution_count": null,
   "id": "33a3090a",
   "metadata": {},
   "outputs": [],
   "source": [
    "1.021\t4.91\t725\t14.0\t443\t2.45\t0"
   ]
  },
  {
   "cell_type": "markdown",
   "id": "0f0638f1",
   "metadata": {},
   "source": [
    "# input prediction"
   ]
  },
  {
   "cell_type": "code",
   "execution_count": 40,
   "id": "06d495f0",
   "metadata": {},
   "outputs": [
    {
     "name": "stdout",
     "output_type": "stream",
     "text": [
      "Enter gravity: 1.21\n",
      "Enter ph: 4.91\n",
      "Enter osmo: 725\n",
      "Enter cond: 14.0\n",
      "Enter urea: 443\n",
      "Enter calc: 2.45\n"
     ]
    }
   ],
   "source": [
    "gravity=float(input(\"Enter gravity: \"))\n",
    "ph=float(input(\"Enter ph: \"))\n",
    "osmo=float(input(\"Enter osmo: \"))\n",
    "cond=float(input(\"Enter cond: \"))\n",
    "urea=float(input(\"Enter urea: \"))\n",
    "calc=float(input(\"Enter calc: \"))"
   ]
  },
  {
   "cell_type": "code",
   "execution_count": 41,
   "id": "528a0c9b",
   "metadata": {},
   "outputs": [],
   "source": [
    "input_data = pd.DataFrame({\n",
    "        'gravity': [gravity],\n",
    "        'ph': [ph],\n",
    "        'osmo': [osmo],\n",
    "        'cond': [cond],\n",
    "        'urea': [urea],\n",
    "        'calc': [calc]\n",
    "    })"
   ]
  },
  {
   "cell_type": "code",
   "execution_count": 42,
   "id": "0180c433",
   "metadata": {},
   "outputs": [],
   "source": [
    "prediction = rfc_scratch.predict(input_data)"
   ]
  },
  {
   "cell_type": "code",
   "execution_count": 43,
   "id": "30abe0d7",
   "metadata": {},
   "outputs": [
    {
     "name": "stdout",
     "output_type": "stream",
     "text": [
      "[1]\n"
     ]
    }
   ],
   "source": [
    "print(prediction)"
   ]
  },
  {
   "cell_type": "code",
   "execution_count": 44,
   "id": "6aff4033",
   "metadata": {},
   "outputs": [
    {
     "name": "stdout",
     "output_type": "stream",
     "text": [
      "[[0.51606061]]\n"
     ]
    }
   ],
   "source": [
    "probability = rfc_scratch.predict_proba(input_data)\n",
    "print(probability)"
   ]
  },
  {
   "cell_type": "code",
   "execution_count": 48,
   "id": "4538a5ce",
   "metadata": {},
   "outputs": [
    {
     "name": "stdout",
     "output_type": "stream",
     "text": [
      "probability stone:  0.516060606060606\n"
     ]
    }
   ],
   "source": [
    "print(\"probability stone: \",probability[0][0])"
   ]
  },
  {
   "cell_type": "markdown",
   "id": "c136ebd1",
   "metadata": {},
   "source": [
    "# save model"
   ]
  },
  {
   "cell_type": "code",
   "execution_count": 49,
   "id": "a04f9dc5",
   "metadata": {},
   "outputs": [
    {
     "data": {
      "text/plain": [
       "['random_forest.joblib']"
      ]
     },
     "execution_count": 49,
     "metadata": {},
     "output_type": "execute_result"
    }
   ],
   "source": [
    "from joblib import dump, load\n",
    "# Save the best model\n",
    "dump(rfc_scratch, 'random_forest.joblib')"
   ]
  },
  {
   "cell_type": "code",
   "execution_count": 50,
   "id": "281aeb3b",
   "metadata": {},
   "outputs": [],
   "source": [
    "model= load('random_forest.joblib')"
   ]
  },
  {
   "cell_type": "code",
   "execution_count": 51,
   "id": "c12c9c8f",
   "metadata": {},
   "outputs": [],
   "source": [
    "prob=model.predict_proba(input_data)"
   ]
  },
  {
   "cell_type": "code",
   "execution_count": 52,
   "id": "0206d586",
   "metadata": {},
   "outputs": [
    {
     "data": {
      "text/plain": [
       "0.516060606060606"
      ]
     },
     "execution_count": 52,
     "metadata": {},
     "output_type": "execute_result"
    }
   ],
   "source": [
    "prob[0][0]"
   ]
  },
  {
   "cell_type": "code",
   "execution_count": null,
   "id": "8f12ad56",
   "metadata": {},
   "outputs": [],
   "source": []
  }
 ],
 "metadata": {
  "kernelspec": {
   "display_name": "Python 3 (ipykernel)",
   "language": "python",
   "name": "python3"
  },
  "language_info": {
   "codemirror_mode": {
    "name": "ipython",
    "version": 3
   },
   "file_extension": ".py",
   "mimetype": "text/x-python",
   "name": "python",
   "nbconvert_exporter": "python",
   "pygments_lexer": "ipython3",
   "version": "3.11.4"
  }
 },
 "nbformat": 4,
 "nbformat_minor": 5
}
