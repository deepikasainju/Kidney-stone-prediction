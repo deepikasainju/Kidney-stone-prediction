{
 "cells": [
  {
   "cell_type": "code",
   "execution_count": 1,
   "id": "edbff6cc",
   "metadata": {},
   "outputs": [],
   "source": [
    "import pandas as pd\n",
    "import numpy as np\n",
    "import seaborn as sns\n",
    "import matplotlib.pyplot as plt"
   ]
  },
  {
   "cell_type": "code",
   "execution_count": 2,
   "id": "8b5c1d90",
   "metadata": {},
   "outputs": [
    {
     "data": {
      "text/html": [
       "<div>\n",
       "<style scoped>\n",
       "    .dataframe tbody tr th:only-of-type {\n",
       "        vertical-align: middle;\n",
       "    }\n",
       "\n",
       "    .dataframe tbody tr th {\n",
       "        vertical-align: top;\n",
       "    }\n",
       "\n",
       "    .dataframe thead th {\n",
       "        text-align: right;\n",
       "    }\n",
       "</style>\n",
       "<table border=\"1\" class=\"dataframe\">\n",
       "  <thead>\n",
       "    <tr style=\"text-align: right;\">\n",
       "      <th></th>\n",
       "      <th>gravity</th>\n",
       "      <th>ph</th>\n",
       "      <th>osmo</th>\n",
       "      <th>cond</th>\n",
       "      <th>urea</th>\n",
       "      <th>calc</th>\n",
       "      <th>target</th>\n",
       "    </tr>\n",
       "  </thead>\n",
       "  <tbody>\n",
       "    <tr>\n",
       "      <th>0</th>\n",
       "      <td>1.021000</td>\n",
       "      <td>4.910000</td>\n",
       "      <td>725</td>\n",
       "      <td>14.000000</td>\n",
       "      <td>443</td>\n",
       "      <td>2.450000</td>\n",
       "      <td>0</td>\n",
       "    </tr>\n",
       "    <tr>\n",
       "      <th>1</th>\n",
       "      <td>1.017000</td>\n",
       "      <td>5.740000</td>\n",
       "      <td>577</td>\n",
       "      <td>20.000000</td>\n",
       "      <td>296</td>\n",
       "      <td>4.490000</td>\n",
       "      <td>0</td>\n",
       "    </tr>\n",
       "    <tr>\n",
       "      <th>2</th>\n",
       "      <td>1.008000</td>\n",
       "      <td>7.200000</td>\n",
       "      <td>321</td>\n",
       "      <td>14.900000</td>\n",
       "      <td>101</td>\n",
       "      <td>2.360000</td>\n",
       "      <td>0</td>\n",
       "    </tr>\n",
       "    <tr>\n",
       "      <th>3</th>\n",
       "      <td>1.011000</td>\n",
       "      <td>5.510000</td>\n",
       "      <td>408</td>\n",
       "      <td>12.600000</td>\n",
       "      <td>224</td>\n",
       "      <td>2.150000</td>\n",
       "      <td>0</td>\n",
       "    </tr>\n",
       "    <tr>\n",
       "      <th>4</th>\n",
       "      <td>1.005000</td>\n",
       "      <td>6.520000</td>\n",
       "      <td>187</td>\n",
       "      <td>7.500000</td>\n",
       "      <td>91</td>\n",
       "      <td>1.160000</td>\n",
       "      <td>0</td>\n",
       "    </tr>\n",
       "    <tr>\n",
       "      <th>...</th>\n",
       "      <td>...</td>\n",
       "      <td>...</td>\n",
       "      <td>...</td>\n",
       "      <td>...</td>\n",
       "      <td>...</td>\n",
       "      <td>...</td>\n",
       "      <td>...</td>\n",
       "    </tr>\n",
       "    <tr>\n",
       "      <th>85</th>\n",
       "      <td>1.021452</td>\n",
       "      <td>5.556081</td>\n",
       "      <td>756</td>\n",
       "      <td>24.241481</td>\n",
       "      <td>367</td>\n",
       "      <td>7.669120</td>\n",
       "      <td>1</td>\n",
       "    </tr>\n",
       "    <tr>\n",
       "      <th>86</th>\n",
       "      <td>1.016501</td>\n",
       "      <td>6.900257</td>\n",
       "      <td>549</td>\n",
       "      <td>20.549790</td>\n",
       "      <td>204</td>\n",
       "      <td>5.775256</td>\n",
       "      <td>1</td>\n",
       "    </tr>\n",
       "    <tr>\n",
       "      <th>87</th>\n",
       "      <td>1.032754</td>\n",
       "      <td>5.443491</td>\n",
       "      <td>1085</td>\n",
       "      <td>23.188653</td>\n",
       "      <td>576</td>\n",
       "      <td>8.664169</td>\n",
       "      <td>1</td>\n",
       "    </tr>\n",
       "    <tr>\n",
       "      <th>88</th>\n",
       "      <td>1.023870</td>\n",
       "      <td>5.106433</td>\n",
       "      <td>325</td>\n",
       "      <td>12.124689</td>\n",
       "      <td>50</td>\n",
       "      <td>0.781620</td>\n",
       "      <td>1</td>\n",
       "    </tr>\n",
       "    <tr>\n",
       "      <th>89</th>\n",
       "      <td>1.013723</td>\n",
       "      <td>6.308943</td>\n",
       "      <td>472</td>\n",
       "      <td>16.907792</td>\n",
       "      <td>174</td>\n",
       "      <td>2.556405</td>\n",
       "      <td>1</td>\n",
       "    </tr>\n",
       "  </tbody>\n",
       "</table>\n",
       "<p>90 rows × 7 columns</p>\n",
       "</div>"
      ],
      "text/plain": [
       "     gravity        ph  osmo       cond  urea      calc  target\n",
       "0   1.021000  4.910000   725  14.000000   443  2.450000       0\n",
       "1   1.017000  5.740000   577  20.000000   296  4.490000       0\n",
       "2   1.008000  7.200000   321  14.900000   101  2.360000       0\n",
       "3   1.011000  5.510000   408  12.600000   224  2.150000       0\n",
       "4   1.005000  6.520000   187   7.500000    91  1.160000       0\n",
       "..       ...       ...   ...        ...   ...       ...     ...\n",
       "85  1.021452  5.556081   756  24.241481   367  7.669120       1\n",
       "86  1.016501  6.900257   549  20.549790   204  5.775256       1\n",
       "87  1.032754  5.443491  1085  23.188653   576  8.664169       1\n",
       "88  1.023870  5.106433   325  12.124689    50  0.781620       1\n",
       "89  1.013723  6.308943   472  16.907792   174  2.556405       1\n",
       "\n",
       "[90 rows x 7 columns]"
      ]
     },
     "execution_count": 2,
     "metadata": {},
     "output_type": "execute_result"
    }
   ],
   "source": [
    "dataset1=pd.read_csv('../datasets/kidney-stone-dataset.csv')\n",
    "dataset1 = dataset1.drop('Unnamed: 0', axis=1)\n",
    "dataset1"
   ]
  },
  {
   "cell_type": "code",
   "execution_count": 3,
   "id": "b91e3b54",
   "metadata": {},
   "outputs": [
    {
     "data": {
      "text/html": [
       "<div>\n",
       "<style scoped>\n",
       "    .dataframe tbody tr th:only-of-type {\n",
       "        vertical-align: middle;\n",
       "    }\n",
       "\n",
       "    .dataframe tbody tr th {\n",
       "        vertical-align: top;\n",
       "    }\n",
       "\n",
       "    .dataframe thead th {\n",
       "        text-align: right;\n",
       "    }\n",
       "</style>\n",
       "<table border=\"1\" class=\"dataframe\">\n",
       "  <thead>\n",
       "    <tr style=\"text-align: right;\">\n",
       "      <th></th>\n",
       "      <th>gravity</th>\n",
       "      <th>ph</th>\n",
       "      <th>osmo</th>\n",
       "      <th>cond</th>\n",
       "      <th>urea</th>\n",
       "      <th>calc</th>\n",
       "      <th>target</th>\n",
       "    </tr>\n",
       "  </thead>\n",
       "  <tbody>\n",
       "    <tr>\n",
       "      <th>0</th>\n",
       "      <td>1.013</td>\n",
       "      <td>6.19</td>\n",
       "      <td>443</td>\n",
       "      <td>14.8</td>\n",
       "      <td>124</td>\n",
       "      <td>1.45</td>\n",
       "      <td>0</td>\n",
       "    </tr>\n",
       "    <tr>\n",
       "      <th>1</th>\n",
       "      <td>1.025</td>\n",
       "      <td>5.40</td>\n",
       "      <td>703</td>\n",
       "      <td>23.6</td>\n",
       "      <td>394</td>\n",
       "      <td>4.18</td>\n",
       "      <td>0</td>\n",
       "    </tr>\n",
       "    <tr>\n",
       "      <th>2</th>\n",
       "      <td>1.009</td>\n",
       "      <td>6.13</td>\n",
       "      <td>371</td>\n",
       "      <td>24.5</td>\n",
       "      <td>159</td>\n",
       "      <td>9.04</td>\n",
       "      <td>0</td>\n",
       "    </tr>\n",
       "    <tr>\n",
       "      <th>3</th>\n",
       "      <td>1.021</td>\n",
       "      <td>4.91</td>\n",
       "      <td>442</td>\n",
       "      <td>20.8</td>\n",
       "      <td>398</td>\n",
       "      <td>6.63</td>\n",
       "      <td>1</td>\n",
       "    </tr>\n",
       "    <tr>\n",
       "      <th>4</th>\n",
       "      <td>1.021</td>\n",
       "      <td>5.53</td>\n",
       "      <td>874</td>\n",
       "      <td>17.8</td>\n",
       "      <td>385</td>\n",
       "      <td>2.21</td>\n",
       "      <td>1</td>\n",
       "    </tr>\n",
       "    <tr>\n",
       "      <th>...</th>\n",
       "      <td>...</td>\n",
       "      <td>...</td>\n",
       "      <td>...</td>\n",
       "      <td>...</td>\n",
       "      <td>...</td>\n",
       "      <td>...</td>\n",
       "      <td>...</td>\n",
       "    </tr>\n",
       "    <tr>\n",
       "      <th>409</th>\n",
       "      <td>1.011</td>\n",
       "      <td>5.21</td>\n",
       "      <td>527</td>\n",
       "      <td>21.4</td>\n",
       "      <td>75</td>\n",
       "      <td>1.53</td>\n",
       "      <td>0</td>\n",
       "    </tr>\n",
       "    <tr>\n",
       "      <th>410</th>\n",
       "      <td>1.024</td>\n",
       "      <td>5.53</td>\n",
       "      <td>577</td>\n",
       "      <td>19.7</td>\n",
       "      <td>224</td>\n",
       "      <td>0.77</td>\n",
       "      <td>0</td>\n",
       "    </tr>\n",
       "    <tr>\n",
       "      <th>411</th>\n",
       "      <td>1.018</td>\n",
       "      <td>6.28</td>\n",
       "      <td>455</td>\n",
       "      <td>22.2</td>\n",
       "      <td>270</td>\n",
       "      <td>7.68</td>\n",
       "      <td>1</td>\n",
       "    </tr>\n",
       "    <tr>\n",
       "      <th>412</th>\n",
       "      <td>1.008</td>\n",
       "      <td>7.12</td>\n",
       "      <td>325</td>\n",
       "      <td>12.6</td>\n",
       "      <td>75</td>\n",
       "      <td>1.03</td>\n",
       "      <td>1</td>\n",
       "    </tr>\n",
       "    <tr>\n",
       "      <th>413</th>\n",
       "      <td>1.011</td>\n",
       "      <td>6.13</td>\n",
       "      <td>364</td>\n",
       "      <td>9.9</td>\n",
       "      <td>159</td>\n",
       "      <td>0.27</td>\n",
       "      <td>0</td>\n",
       "    </tr>\n",
       "  </tbody>\n",
       "</table>\n",
       "<p>414 rows × 7 columns</p>\n",
       "</div>"
      ],
      "text/plain": [
       "     gravity    ph  osmo  cond  urea  calc  target\n",
       "0      1.013  6.19   443  14.8   124  1.45       0\n",
       "1      1.025  5.40   703  23.6   394  4.18       0\n",
       "2      1.009  6.13   371  24.5   159  9.04       0\n",
       "3      1.021  4.91   442  20.8   398  6.63       1\n",
       "4      1.021  5.53   874  17.8   385  2.21       1\n",
       "..       ...   ...   ...   ...   ...   ...     ...\n",
       "409    1.011  5.21   527  21.4    75  1.53       0\n",
       "410    1.024  5.53   577  19.7   224  0.77       0\n",
       "411    1.018  6.28   455  22.2   270  7.68       1\n",
       "412    1.008  7.12   325  12.6    75  1.03       1\n",
       "413    1.011  6.13   364   9.9   159  0.27       0\n",
       "\n",
       "[414 rows x 7 columns]"
      ]
     },
     "execution_count": 3,
     "metadata": {},
     "output_type": "execute_result"
    }
   ],
   "source": [
    "dataset2=pd.read_csv('../datasets/kidney_stone_data.csv')\n",
    "dataset2 = dataset2.drop('id', axis=1)\n",
    "dataset2"
   ]
  },
  {
   "cell_type": "code",
   "execution_count": 4,
   "id": "98d4f506",
   "metadata": {},
   "outputs": [
    {
     "data": {
      "text/html": [
       "<div>\n",
       "<style scoped>\n",
       "    .dataframe tbody tr th:only-of-type {\n",
       "        vertical-align: middle;\n",
       "    }\n",
       "\n",
       "    .dataframe tbody tr th {\n",
       "        vertical-align: top;\n",
       "    }\n",
       "\n",
       "    .dataframe thead th {\n",
       "        text-align: right;\n",
       "    }\n",
       "</style>\n",
       "<table border=\"1\" class=\"dataframe\">\n",
       "  <thead>\n",
       "    <tr style=\"text-align: right;\">\n",
       "      <th></th>\n",
       "      <th>gravity</th>\n",
       "      <th>ph</th>\n",
       "      <th>osmo</th>\n",
       "      <th>cond</th>\n",
       "      <th>urea</th>\n",
       "      <th>calc</th>\n",
       "      <th>target</th>\n",
       "    </tr>\n",
       "  </thead>\n",
       "  <tbody>\n",
       "    <tr>\n",
       "      <th>0</th>\n",
       "      <td>1.021</td>\n",
       "      <td>4.91</td>\n",
       "      <td>725</td>\n",
       "      <td>14.0</td>\n",
       "      <td>443</td>\n",
       "      <td>2.45</td>\n",
       "      <td>0</td>\n",
       "    </tr>\n",
       "    <tr>\n",
       "      <th>1</th>\n",
       "      <td>1.017</td>\n",
       "      <td>5.74</td>\n",
       "      <td>577</td>\n",
       "      <td>20.0</td>\n",
       "      <td>296</td>\n",
       "      <td>4.49</td>\n",
       "      <td>0</td>\n",
       "    </tr>\n",
       "    <tr>\n",
       "      <th>2</th>\n",
       "      <td>1.008</td>\n",
       "      <td>7.20</td>\n",
       "      <td>321</td>\n",
       "      <td>14.9</td>\n",
       "      <td>101</td>\n",
       "      <td>2.36</td>\n",
       "      <td>0</td>\n",
       "    </tr>\n",
       "    <tr>\n",
       "      <th>3</th>\n",
       "      <td>1.011</td>\n",
       "      <td>5.51</td>\n",
       "      <td>408</td>\n",
       "      <td>12.6</td>\n",
       "      <td>224</td>\n",
       "      <td>2.15</td>\n",
       "      <td>0</td>\n",
       "    </tr>\n",
       "    <tr>\n",
       "      <th>4</th>\n",
       "      <td>1.005</td>\n",
       "      <td>6.52</td>\n",
       "      <td>187</td>\n",
       "      <td>7.5</td>\n",
       "      <td>91</td>\n",
       "      <td>1.16</td>\n",
       "      <td>0</td>\n",
       "    </tr>\n",
       "    <tr>\n",
       "      <th>...</th>\n",
       "      <td>...</td>\n",
       "      <td>...</td>\n",
       "      <td>...</td>\n",
       "      <td>...</td>\n",
       "      <td>...</td>\n",
       "      <td>...</td>\n",
       "      <td>...</td>\n",
       "    </tr>\n",
       "    <tr>\n",
       "      <th>74</th>\n",
       "      <td>1.025</td>\n",
       "      <td>7.90</td>\n",
       "      <td>721</td>\n",
       "      <td>23.6</td>\n",
       "      <td>301</td>\n",
       "      <td>9.04</td>\n",
       "      <td>1</td>\n",
       "    </tr>\n",
       "    <tr>\n",
       "      <th>75</th>\n",
       "      <td>1.017</td>\n",
       "      <td>4.81</td>\n",
       "      <td>410</td>\n",
       "      <td>13.3</td>\n",
       "      <td>195</td>\n",
       "      <td>0.58</td>\n",
       "      <td>1</td>\n",
       "    </tr>\n",
       "    <tr>\n",
       "      <th>76</th>\n",
       "      <td>1.024</td>\n",
       "      <td>5.40</td>\n",
       "      <td>803</td>\n",
       "      <td>21.8</td>\n",
       "      <td>394</td>\n",
       "      <td>7.82</td>\n",
       "      <td>1</td>\n",
       "    </tr>\n",
       "    <tr>\n",
       "      <th>77</th>\n",
       "      <td>1.016</td>\n",
       "      <td>6.81</td>\n",
       "      <td>594</td>\n",
       "      <td>21.4</td>\n",
       "      <td>255</td>\n",
       "      <td>12.20</td>\n",
       "      <td>1</td>\n",
       "    </tr>\n",
       "    <tr>\n",
       "      <th>78</th>\n",
       "      <td>1.015</td>\n",
       "      <td>6.03</td>\n",
       "      <td>416</td>\n",
       "      <td>12.8</td>\n",
       "      <td>178</td>\n",
       "      <td>9.39</td>\n",
       "      <td>1</td>\n",
       "    </tr>\n",
       "  </tbody>\n",
       "</table>\n",
       "<p>79 rows × 7 columns</p>\n",
       "</div>"
      ],
      "text/plain": [
       "    gravity    ph  osmo  cond  urea   calc  target\n",
       "0     1.021  4.91   725  14.0   443   2.45       0\n",
       "1     1.017  5.74   577  20.0   296   4.49       0\n",
       "2     1.008  7.20   321  14.9   101   2.36       0\n",
       "3     1.011  5.51   408  12.6   224   2.15       0\n",
       "4     1.005  6.52   187   7.5    91   1.16       0\n",
       "..      ...   ...   ...   ...   ...    ...     ...\n",
       "74    1.025  7.90   721  23.6   301   9.04       1\n",
       "75    1.017  4.81   410  13.3   195   0.58       1\n",
       "76    1.024  5.40   803  21.8   394   7.82       1\n",
       "77    1.016  6.81   594  21.4   255  12.20       1\n",
       "78    1.015  6.03   416  12.8   178   9.39       1\n",
       "\n",
       "[79 rows x 7 columns]"
      ]
     },
     "execution_count": 4,
     "metadata": {},
     "output_type": "execute_result"
    }
   ],
   "source": [
    "dataset3=pd.read_csv('../datasets/kindey stone urine analysis.csv')\n",
    "dataset3"
   ]
  },
  {
   "cell_type": "code",
   "execution_count": 5,
   "id": "b0d6f6ac",
   "metadata": {},
   "outputs": [
    {
     "data": {
      "text/html": [
       "<div>\n",
       "<style scoped>\n",
       "    .dataframe tbody tr th:only-of-type {\n",
       "        vertical-align: middle;\n",
       "    }\n",
       "\n",
       "    .dataframe tbody tr th {\n",
       "        vertical-align: top;\n",
       "    }\n",
       "\n",
       "    .dataframe thead th {\n",
       "        text-align: right;\n",
       "    }\n",
       "</style>\n",
       "<table border=\"1\" class=\"dataframe\">\n",
       "  <thead>\n",
       "    <tr style=\"text-align: right;\">\n",
       "      <th></th>\n",
       "      <th>gravity</th>\n",
       "      <th>ph</th>\n",
       "      <th>osmo</th>\n",
       "      <th>cond</th>\n",
       "      <th>urea</th>\n",
       "      <th>calc</th>\n",
       "      <th>target</th>\n",
       "    </tr>\n",
       "  </thead>\n",
       "  <tbody>\n",
       "    <tr>\n",
       "      <th>0</th>\n",
       "      <td>1.021</td>\n",
       "      <td>4.91</td>\n",
       "      <td>725</td>\n",
       "      <td>14.0</td>\n",
       "      <td>443</td>\n",
       "      <td>2.45</td>\n",
       "      <td>0</td>\n",
       "    </tr>\n",
       "    <tr>\n",
       "      <th>1</th>\n",
       "      <td>1.017</td>\n",
       "      <td>5.74</td>\n",
       "      <td>577</td>\n",
       "      <td>20.0</td>\n",
       "      <td>296</td>\n",
       "      <td>4.49</td>\n",
       "      <td>0</td>\n",
       "    </tr>\n",
       "    <tr>\n",
       "      <th>2</th>\n",
       "      <td>1.008</td>\n",
       "      <td>7.20</td>\n",
       "      <td>321</td>\n",
       "      <td>14.9</td>\n",
       "      <td>101</td>\n",
       "      <td>2.36</td>\n",
       "      <td>0</td>\n",
       "    </tr>\n",
       "    <tr>\n",
       "      <th>3</th>\n",
       "      <td>1.011</td>\n",
       "      <td>5.51</td>\n",
       "      <td>408</td>\n",
       "      <td>12.6</td>\n",
       "      <td>224</td>\n",
       "      <td>2.15</td>\n",
       "      <td>0</td>\n",
       "    </tr>\n",
       "    <tr>\n",
       "      <th>4</th>\n",
       "      <td>1.005</td>\n",
       "      <td>6.52</td>\n",
       "      <td>187</td>\n",
       "      <td>7.5</td>\n",
       "      <td>91</td>\n",
       "      <td>1.16</td>\n",
       "      <td>0</td>\n",
       "    </tr>\n",
       "    <tr>\n",
       "      <th>...</th>\n",
       "      <td>...</td>\n",
       "      <td>...</td>\n",
       "      <td>...</td>\n",
       "      <td>...</td>\n",
       "      <td>...</td>\n",
       "      <td>...</td>\n",
       "      <td>...</td>\n",
       "    </tr>\n",
       "    <tr>\n",
       "      <th>578</th>\n",
       "      <td>1.025</td>\n",
       "      <td>7.90</td>\n",
       "      <td>721</td>\n",
       "      <td>23.6</td>\n",
       "      <td>301</td>\n",
       "      <td>9.04</td>\n",
       "      <td>1</td>\n",
       "    </tr>\n",
       "    <tr>\n",
       "      <th>579</th>\n",
       "      <td>1.017</td>\n",
       "      <td>4.81</td>\n",
       "      <td>410</td>\n",
       "      <td>13.3</td>\n",
       "      <td>195</td>\n",
       "      <td>0.58</td>\n",
       "      <td>1</td>\n",
       "    </tr>\n",
       "    <tr>\n",
       "      <th>580</th>\n",
       "      <td>1.024</td>\n",
       "      <td>5.40</td>\n",
       "      <td>803</td>\n",
       "      <td>21.8</td>\n",
       "      <td>394</td>\n",
       "      <td>7.82</td>\n",
       "      <td>1</td>\n",
       "    </tr>\n",
       "    <tr>\n",
       "      <th>581</th>\n",
       "      <td>1.016</td>\n",
       "      <td>6.81</td>\n",
       "      <td>594</td>\n",
       "      <td>21.4</td>\n",
       "      <td>255</td>\n",
       "      <td>12.20</td>\n",
       "      <td>1</td>\n",
       "    </tr>\n",
       "    <tr>\n",
       "      <th>582</th>\n",
       "      <td>1.015</td>\n",
       "      <td>6.03</td>\n",
       "      <td>416</td>\n",
       "      <td>12.8</td>\n",
       "      <td>178</td>\n",
       "      <td>9.39</td>\n",
       "      <td>1</td>\n",
       "    </tr>\n",
       "  </tbody>\n",
       "</table>\n",
       "<p>583 rows × 7 columns</p>\n",
       "</div>"
      ],
      "text/plain": [
       "     gravity    ph  osmo  cond  urea   calc  target\n",
       "0      1.021  4.91   725  14.0   443   2.45       0\n",
       "1      1.017  5.74   577  20.0   296   4.49       0\n",
       "2      1.008  7.20   321  14.9   101   2.36       0\n",
       "3      1.011  5.51   408  12.6   224   2.15       0\n",
       "4      1.005  6.52   187   7.5    91   1.16       0\n",
       "..       ...   ...   ...   ...   ...    ...     ...\n",
       "578    1.025  7.90   721  23.6   301   9.04       1\n",
       "579    1.017  4.81   410  13.3   195   0.58       1\n",
       "580    1.024  5.40   803  21.8   394   7.82       1\n",
       "581    1.016  6.81   594  21.4   255  12.20       1\n",
       "582    1.015  6.03   416  12.8   178   9.39       1\n",
       "\n",
       "[583 rows x 7 columns]"
      ]
     },
     "execution_count": 5,
     "metadata": {},
     "output_type": "execute_result"
    }
   ],
   "source": [
    "combined_df=pd.concat([dataset1, dataset2,dataset3], ignore_index=True)\n",
    "df=combined_df.copy()\n",
    "df"
   ]
  },
  {
   "cell_type": "code",
   "execution_count": 6,
   "id": "6e2a5c88",
   "metadata": {},
   "outputs": [
    {
     "data": {
      "text/plain": [
       "(583, 7)"
      ]
     },
     "execution_count": 6,
     "metadata": {},
     "output_type": "execute_result"
    }
   ],
   "source": [
    "df.shape"
   ]
  },
  {
   "cell_type": "code",
   "execution_count": 7,
   "id": "6a5901b0",
   "metadata": {},
   "outputs": [
    {
     "data": {
      "text/plain": [
       "gravity    0\n",
       "ph         0\n",
       "osmo       0\n",
       "cond       0\n",
       "urea       0\n",
       "calc       0\n",
       "target     0\n",
       "dtype: int64"
      ]
     },
     "execution_count": 7,
     "metadata": {},
     "output_type": "execute_result"
    }
   ],
   "source": [
    "df.isnull().sum()"
   ]
  },
  {
   "cell_type": "code",
   "execution_count": 8,
   "id": "466d1423",
   "metadata": {},
   "outputs": [
    {
     "name": "stdout",
     "output_type": "stream",
     "text": [
      "<class 'pandas.core.frame.DataFrame'>\n",
      "RangeIndex: 583 entries, 0 to 582\n",
      "Data columns (total 7 columns):\n",
      " #   Column   Non-Null Count  Dtype  \n",
      "---  ------   --------------  -----  \n",
      " 0   gravity  583 non-null    float64\n",
      " 1   ph       583 non-null    float64\n",
      " 2   osmo     583 non-null    int64  \n",
      " 3   cond     583 non-null    float64\n",
      " 4   urea     583 non-null    int64  \n",
      " 5   calc     583 non-null    float64\n",
      " 6   target   583 non-null    int64  \n",
      "dtypes: float64(4), int64(3)\n",
      "memory usage: 32.0 KB\n"
     ]
    }
   ],
   "source": [
    "df.info()"
   ]
  },
  {
   "cell_type": "code",
   "execution_count": 9,
   "id": "5078b682",
   "metadata": {},
   "outputs": [
    {
     "data": {
      "text/plain": [
       "77"
      ]
     },
     "execution_count": 9,
     "metadata": {},
     "output_type": "execute_result"
    }
   ],
   "source": [
    "df.duplicated().sum()"
   ]
  },
  {
   "cell_type": "code",
   "execution_count": 10,
   "id": "e4fb7a34",
   "metadata": {},
   "outputs": [],
   "source": [
    "df = df.drop_duplicates()"
   ]
  },
  {
   "cell_type": "code",
   "execution_count": 11,
   "id": "9de31447",
   "metadata": {},
   "outputs": [
    {
     "data": {
      "text/plain": [
       "0"
      ]
     },
     "execution_count": 11,
     "metadata": {},
     "output_type": "execute_result"
    }
   ],
   "source": [
    "df.duplicated().sum()"
   ]
  },
  {
   "cell_type": "code",
   "execution_count": 12,
   "id": "62c7e9f1",
   "metadata": {},
   "outputs": [
    {
     "data": {
      "text/plain": [
       "<Axes: xlabel='target', ylabel='count'>"
      ]
     },
     "execution_count": 12,
     "metadata": {},
     "output_type": "execute_result"
    },
    {
     "data": {
      "image/png": "[encoded data removed]",
      "text/plain": [
       "<Figure size 640x480 with 1 Axes>"
      ]
     },
     "metadata": {},
     "output_type": "display_data"
    }
   ],
   "source": [
    "import seaborn as sns\n",
    "sns.countplot(x='target',data=df)"
   ]
  },
  {
   "cell_type": "code",
   "execution_count": 13,
   "id": "77c2a8cb",
   "metadata": {},
   "outputs": [
    {
     "data": {
      "text/plain": [
       "<Axes: xlabel='gravity'>"
      ]
     },
     "execution_count": 13,
     "metadata": {},
     "output_type": "execute_result"
    },
    {
     "data": {
      "image/png": "[encoded data removed]",
      "text/plain": [
       "<Figure size 640x480 with 1 Axes>"
      ]
     },
     "metadata": {},
     "output_type": "display_data"
    }
   ],
   "source": [
    "import seaborn as sns\n",
    "sns.boxplot(data=combined_df, x='gravity')"
   ]
  },
  {
   "cell_type": "code",
   "execution_count": 14,
   "id": "d1902988",
   "metadata": {},
   "outputs": [
    {
     "data": {
      "text/plain": [
       "<Axes: xlabel='ph'>"
      ]
     },
     "execution_count": 14,
     "metadata": {},
     "output_type": "execute_result"
    },
    {
     "data": {
      "image/png": "[encoded data removed]",
      "text/plain": [
       "<Figure size 640x480 with 1 Axes>"
      ]
     },
     "metadata": {},
     "output_type": "display_data"
    }
   ],
   "source": [
    "sns.boxplot(data=combined_df, x='ph')"
   ]
  },
  {
   "cell_type": "code",
   "execution_count": 15,
   "id": "129bd74d",
   "metadata": {},
   "outputs": [
    {
     "data": {
      "text/plain": [
       "<Axes: xlabel='osmo'>"
      ]
     },
     "execution_count": 15,
     "metadata": {},
     "output_type": "execute_result"
    },
    {
     "data": {
      "image/png": "[encoded data removed]",
      "text/plain": [
       "<Figure size 640x480 with 1 Axes>"
      ]
     },
     "metadata": {},
     "output_type": "display_data"
    }
   ],
   "source": [
    "sns.boxplot(data=combined_df, x='osmo')"
   ]
  },
  {
   "cell_type": "code",
   "execution_count": 16,
   "id": "4d629430",
   "metadata": {},
   "outputs": [
    {
     "data": {
      "text/plain": [
       "<Axes: xlabel='cond'>"
      ]
     },
     "execution_count": 16,
     "metadata": {},
     "output_type": "execute_result"
    },
    {
     "data": {
      "image/png": "[encoded data removed]",
      "text/plain": [
       "<Figure size 640x480 with 1 Axes>"
      ]
     },
     "metadata": {},
     "output_type": "display_data"
    }
   ],
   "source": [
    "sns.boxplot(data=combined_df, x='cond')"
   ]
  },
  {
   "cell_type": "code",
   "execution_count": 17,
   "id": "2be87d19",
   "metadata": {},
   "outputs": [
    {
     "data": {
      "text/plain": [
       "<Axes: xlabel='urea'>"
      ]
     },
     "execution_count": 17,
     "metadata": {},
     "output_type": "execute_result"
    },
    {
     "data": {
      "image/png": "[encoded data removed]",
      "text/plain": [
       "<Figure size 640x480 with 1 Axes>"
      ]
     },
     "metadata": {},
     "output_type": "display_data"
    }
   ],
   "source": [
    "sns.boxplot(data=combined_df, x='urea')"
   ]
  },
  {
   "cell_type": "code",
   "execution_count": 18,
   "id": "edcd4e05",
   "metadata": {},
   "outputs": [
    {
     "data": {
      "text/plain": [
       "<Axes: xlabel='calc'>"
      ]
     },
     "execution_count": 18,
     "metadata": {},
     "output_type": "execute_result"
    },
    {
     "data": {
      "image/png": "[encoded data removed]",
      "text/plain": [
       "<Figure size 640x480 with 1 Axes>"
      ]
     },
     "metadata": {},
     "output_type": "display_data"
    }
   ],
   "source": [
    "sns.boxplot(data=combined_df, x='calc')"
   ]
  },
  {
   "cell_type": "markdown",
   "id": "1ada0b47",
   "metadata": {},
   "source": [
    "# Handling outliers"
   ]
  },
  {
   "cell_type": "code",
   "execution_count": null,
   "id": "5203ff33",
   "metadata": {},
   "outputs": [],
   "source": []
  },
  {
   "cell_type": "code",
   "execution_count": 19,
   "id": "80436027",
   "metadata": {},
   "outputs": [],
   "source": [
    "columns = ['gravity', 'ph', 'calc']"
   ]
  },
  {
   "cell_type": "code",
   "execution_count": 20,
   "id": "b3533297",
   "metadata": {},
   "outputs": [
    {
     "name": "stderr",
     "output_type": "stream",
     "text": [
      "C:\\Users\\Dell\\AppData\\Local\\Temp\\ipykernel_7064\\3935736073.py:11: SettingWithCopyWarning: \n",
      "A value is trying to be set on a copy of a slice from a DataFrame.\n",
      "Try using .loc[row_indexer,col_indexer] = value instead\n",
      "\n",
      "See the caveats in the documentation: https://pandas.pydata.org/pandas-docs/stable/user_guide/indexing.html#returning-a-view-versus-a-copy\n",
      "  df[col] = np.where(df[col] < lower_whisker, lower_whisker,\n",
      "C:\\Users\\Dell\\AppData\\Local\\Temp\\ipykernel_7064\\3935736073.py:11: SettingWithCopyWarning: \n",
      "A value is trying to be set on a copy of a slice from a DataFrame.\n",
      "Try using .loc[row_indexer,col_indexer] = value instead\n",
      "\n",
      "See the caveats in the documentation: https://pandas.pydata.org/pandas-docs/stable/user_guide/indexing.html#returning-a-view-versus-a-copy\n",
      "  df[col] = np.where(df[col] < lower_whisker, lower_whisker,\n",
      "C:\\Users\\Dell\\AppData\\Local\\Temp\\ipykernel_7064\\3935736073.py:11: SettingWithCopyWarning: \n",
      "A value is trying to be set on a copy of a slice from a DataFrame.\n",
      "Try using .loc[row_indexer,col_indexer] = value instead\n",
      "\n",
      "See the caveats in the documentation: https://pandas.pydata.org/pandas-docs/stable/user_guide/indexing.html#returning-a-view-versus-a-copy\n",
      "  df[col] = np.where(df[col] < lower_whisker, lower_whisker,\n"
     ]
    }
   ],
   "source": [
    "for col in columns:\n",
    "    Q1 = df[col].quantile(0.25)\n",
    "    Q3 = df[col].quantile(0.75)\n",
    "    IQR = Q3 - Q1\n",
    "\n",
    "    # Define lower and upper whisker values\n",
    "    lower_whisker = Q1 - 1.5 * IQR\n",
    "    upper_whisker = Q3 + 1.5 * IQR\n",
    "\n",
    "    # Cap the outliers at the whisker values\n",
    "    df[col] = np.where(df[col] < lower_whisker, lower_whisker, \n",
    "                       np.where(df[col] > upper_whisker, upper_whisker, df[col]))\n"
   ]
  },
  {
   "cell_type": "code",
   "execution_count": 21,
   "id": "2777404e",
   "metadata": {},
   "outputs": [
    {
     "data": {
      "image/png": "[encoded data removed]",
      "text/plain": [
       "<Figure size 1500x800 with 3 Axes>"
      ]
     },
     "metadata": {},
     "output_type": "display_data"
    }
   ],
   "source": [
    "plt.figure(figsize=(15, 8))\n",
    "for i, col in enumerate(columns, 1):\n",
    "    plt.subplot(2, 3, i)  # Adjust the layout as needed\n",
    "    sns.boxplot(data=df, x=col)\n",
    "    plt.title(f'Boxplot of {col}')\n",
    "\n",
    "plt.tight_layout()\n",
    "plt.show()"
   ]
  },
  {
   "cell_type": "code",
   "execution_count": null,
   "id": "d4bf94bb",
   "metadata": {},
   "outputs": [],
   "source": []
  },
  {
   "cell_type": "markdown",
   "id": "6d3ccf56",
   "metadata": {},
   "source": [
    "# split"
   ]
  },
  {
   "cell_type": "code",
   "execution_count": 22,
   "id": "11dae84b",
   "metadata": {},
   "outputs": [],
   "source": [
    "from sklearn.model_selection import train_test_split\n",
    "X=df.drop(['target'],axis=1)\n",
    "Y=df['target']"
   ]
  },
  {
   "cell_type": "code",
   "execution_count": 23,
   "id": "67a3d044",
   "metadata": {},
   "outputs": [
    {
     "data": {
      "text/html": [
       "<div>\n",
       "<style scoped>\n",
       "    .dataframe tbody tr th:only-of-type {\n",
       "        vertical-align: middle;\n",
       "    }\n",
       "\n",
       "    .dataframe tbody tr th {\n",
       "        vertical-align: top;\n",
       "    }\n",
       "\n",
       "    .dataframe thead th {\n",
       "        text-align: right;\n",
       "    }\n",
       "</style>\n",
       "<table border=\"1\" class=\"dataframe\">\n",
       "  <thead>\n",
       "    <tr style=\"text-align: right;\">\n",
       "      <th></th>\n",
       "      <th>gravity</th>\n",
       "      <th>ph</th>\n",
       "      <th>osmo</th>\n",
       "      <th>cond</th>\n",
       "      <th>urea</th>\n",
       "      <th>calc</th>\n",
       "    </tr>\n",
       "  </thead>\n",
       "  <tbody>\n",
       "    <tr>\n",
       "      <th>0</th>\n",
       "      <td>1.021</td>\n",
       "      <td>4.91</td>\n",
       "      <td>725</td>\n",
       "      <td>14.0</td>\n",
       "      <td>443</td>\n",
       "      <td>2.45</td>\n",
       "    </tr>\n",
       "    <tr>\n",
       "      <th>1</th>\n",
       "      <td>1.017</td>\n",
       "      <td>5.74</td>\n",
       "      <td>577</td>\n",
       "      <td>20.0</td>\n",
       "      <td>296</td>\n",
       "      <td>4.49</td>\n",
       "    </tr>\n",
       "    <tr>\n",
       "      <th>2</th>\n",
       "      <td>1.008</td>\n",
       "      <td>7.20</td>\n",
       "      <td>321</td>\n",
       "      <td>14.9</td>\n",
       "      <td>101</td>\n",
       "      <td>2.36</td>\n",
       "    </tr>\n",
       "    <tr>\n",
       "      <th>3</th>\n",
       "      <td>1.011</td>\n",
       "      <td>5.51</td>\n",
       "      <td>408</td>\n",
       "      <td>12.6</td>\n",
       "      <td>224</td>\n",
       "      <td>2.15</td>\n",
       "    </tr>\n",
       "    <tr>\n",
       "      <th>4</th>\n",
       "      <td>1.005</td>\n",
       "      <td>6.52</td>\n",
       "      <td>187</td>\n",
       "      <td>7.5</td>\n",
       "      <td>91</td>\n",
       "      <td>1.16</td>\n",
       "    </tr>\n",
       "    <tr>\n",
       "      <th>...</th>\n",
       "      <td>...</td>\n",
       "      <td>...</td>\n",
       "      <td>...</td>\n",
       "      <td>...</td>\n",
       "      <td>...</td>\n",
       "      <td>...</td>\n",
       "    </tr>\n",
       "    <tr>\n",
       "      <th>501</th>\n",
       "      <td>1.018</td>\n",
       "      <td>6.28</td>\n",
       "      <td>455</td>\n",
       "      <td>22.2</td>\n",
       "      <td>270</td>\n",
       "      <td>7.68</td>\n",
       "    </tr>\n",
       "    <tr>\n",
       "      <th>502</th>\n",
       "      <td>1.008</td>\n",
       "      <td>7.12</td>\n",
       "      <td>325</td>\n",
       "      <td>12.6</td>\n",
       "      <td>75</td>\n",
       "      <td>1.03</td>\n",
       "    </tr>\n",
       "    <tr>\n",
       "      <th>503</th>\n",
       "      <td>1.011</td>\n",
       "      <td>6.13</td>\n",
       "      <td>364</td>\n",
       "      <td>9.9</td>\n",
       "      <td>159</td>\n",
       "      <td>0.27</td>\n",
       "    </tr>\n",
       "    <tr>\n",
       "      <th>554</th>\n",
       "      <td>1.026</td>\n",
       "      <td>5.16</td>\n",
       "      <td>822</td>\n",
       "      <td>26.0</td>\n",
       "      <td>301</td>\n",
       "      <td>14.34</td>\n",
       "    </tr>\n",
       "    <tr>\n",
       "      <th>562</th>\n",
       "      <td>1.037</td>\n",
       "      <td>6.28</td>\n",
       "      <td>838</td>\n",
       "      <td>14.3</td>\n",
       "      <td>486</td>\n",
       "      <td>8.28</td>\n",
       "    </tr>\n",
       "  </tbody>\n",
       "</table>\n",
       "<p>506 rows × 6 columns</p>\n",
       "</div>"
      ],
      "text/plain": [
       "     gravity    ph  osmo  cond  urea   calc\n",
       "0      1.021  4.91   725  14.0   443   2.45\n",
       "1      1.017  5.74   577  20.0   296   4.49\n",
       "2      1.008  7.20   321  14.9   101   2.36\n",
       "3      1.011  5.51   408  12.6   224   2.15\n",
       "4      1.005  6.52   187   7.5    91   1.16\n",
       "..       ...   ...   ...   ...   ...    ...\n",
       "501    1.018  6.28   455  22.2   270   7.68\n",
       "502    1.008  7.12   325  12.6    75   1.03\n",
       "503    1.011  6.13   364   9.9   159   0.27\n",
       "554    1.026  5.16   822  26.0   301  14.34\n",
       "562    1.037  6.28   838  14.3   486   8.28\n",
       "\n",
       "[506 rows x 6 columns]"
      ]
     },
     "execution_count": 23,
     "metadata": {},
     "output_type": "execute_result"
    }
   ],
   "source": [
    "X"
   ]
  },
  {
   "cell_type": "code",
   "execution_count": 24,
   "id": "dd26567b",
   "metadata": {},
   "outputs": [],
   "source": [
    "X_train, X_test, y_train, y_test = train_test_split(X, Y, test_size=0.2, random_state=42)"
   ]
  },
  {
   "cell_type": "code",
   "execution_count": null,
   "id": "80a9ae4d",
   "metadata": {},
   "outputs": [],
   "source": []
  },
  {
   "cell_type": "markdown",
   "id": "005b2bf3",
   "metadata": {},
   "source": [
    "# model"
   ]
  },
  {
   "cell_type": "code",
   "execution_count": 65,
   "id": "2ed98865",
   "metadata": {},
   "outputs": [],
   "source": [
    "from sklearn.tree import DecisionTreeRegressor\n",
    "from sklearn.metrics import log_loss\n",
    "from sklearn.base import BaseEstimator"
   ]
  },
  {
   "cell_type": "code",
   "execution_count": 74,
   "id": "31feedbd",
   "metadata": {},
   "outputs": [],
   "source": [
    "class DecisionTreeRegressorScratch:\n",
    "    def __init__(self, max_depth=None):\n",
    "        self.max_depth = max_depth\n",
    "        self.tree = None\n",
    "\n",
    "    def fit(self, X, y):\n",
    "        \"\"\"Fit the decision tree on the data\"\"\"\n",
    "        # Ensure all features in X are numeric\n",
    "        X = X.apply(pd.to_numeric, errors='coerce')  # Convert columns to numeric\n",
    "        X = X.fillna(0)  # Fill NaN values with 0 (or use another strategy)\n",
    "        \n",
    "        self.tree = self.build_tree(X, y)\n",
    "\n",
    "    def build_tree(self, X, y, depth=0):\n",
    "        \"\"\"Recursively build the decision tree\"\"\"\n",
    "        if (self.max_depth is not None and depth >= self.max_depth) or len(set(y)) == 1:\n",
    "            return np.mean(y)  # Return the mean value for regression if no split is found\n",
    "\n",
    "        # Find the best split based on the features\n",
    "        split = self.best_split(X, y)\n",
    "        if split is None:\n",
    "            return np.mean(y)\n",
    "\n",
    "        left_mask = X.iloc[:, split['feature_index']] <= split['threshold']\n",
    "        right_mask = ~left_mask\n",
    "\n",
    "        left_tree = self.build_tree(X[left_mask], y[left_mask], depth + 1)\n",
    "        right_tree = self.build_tree(X[right_mask], y[right_mask], depth + 1)\n",
    "\n",
    "        return {'split': split, 'left': left_tree, 'right': right_tree}\n",
    "\n",
    "    def best_split(self, X, y):\n",
    "        \"\"\"Find the best split for the data\"\"\"\n",
    "        best_split = None\n",
    "        best_score = float('inf')\n",
    "        n_features = X.shape[1]\n",
    "\n",
    "        for feature_index in range(n_features):\n",
    "            thresholds = np.unique(X.iloc[:, feature_index])  # Use .iloc for indexing\n",
    "            for threshold in thresholds:\n",
    "                left_mask = X.iloc[:, feature_index] <= threshold\n",
    "                right_mask = ~left_mask\n",
    "\n",
    "                if len(left_mask) == 0 or len(right_mask) == 0:\n",
    "                    continue\n",
    "\n",
    "                left_y = y[left_mask]\n",
    "                right_y = y[right_mask]\n",
    "\n",
    "                # Compute the mean squared error for this split\n",
    "                score = self.compute_mse(left_y, right_y)\n",
    "                if score < best_score:\n",
    "                    best_score = score\n",
    "                    best_split = {'feature_index': feature_index, 'threshold': threshold}\n",
    "\n",
    "        return best_split\n",
    "\n",
    "    def compute_mse(self, left_y, right_y):\n",
    "        \"\"\"Compute mean squared error for a split\"\"\"\n",
    "        left_mse = np.mean((left_y - np.mean(left_y))**2)\n",
    "        right_mse = np.mean((right_y - np.mean(right_y))**2)\n",
    "        return left_mse * len(left_y) + right_mse * len(right_y)\n",
    "\n",
    "    def predict(self, X):\n",
    "        \"\"\"Predict using the decision tree for all samples\"\"\"\n",
    "        X = X.apply(pd.to_numeric, errors='coerce')  # Ensure numeric input\n",
    "        X = X.fillna(0)  # Fill NaN values\n",
    "        return np.array([self.predict_single(x, self.tree) for x in X.values])\n",
    "\n",
    "    def predict_single(self, x, tree):\n",
    "        \"\"\"Make a prediction for a single sample\"\"\"\n",
    "        # Ensure 'x' is a numpy array\n",
    "        x = np.array(x)\n",
    "\n",
    "        if isinstance(tree, dict):\n",
    "            feature_value = x[tree['split']['feature_index']]  # Extract feature value\n",
    "            if feature_value <= tree['split']['threshold']:\n",
    "                return self.predict_single(x, tree['left'])\n",
    "            else:\n",
    "                return self.predict_single(x, tree['right'])\n",
    "        else:\n",
    "            return tree"
   ]
  },
  {
   "cell_type": "code",
   "execution_count": 75,
   "id": "35f89311",
   "metadata": {},
   "outputs": [],
   "source": [
    "class CustomLGBM:\n",
    "    def __init__(self, max_depth=None, learning_rate=0.1, n_estimators=100):\n",
    "        self.max_depth = max_depth\n",
    "        self.learning_rate = learning_rate\n",
    "        self.n_estimators = n_estimators\n",
    "        self.models = []\n",
    "\n",
    "    def fit(self, X, y):\n",
    "        \"\"\"Fit the custom LightGBM model\"\"\"\n",
    "        X = X.apply(pd.to_numeric, errors='coerce')  # Ensure all columns are numeric\n",
    "        X = X.fillna(0)  # Handle NaN values\n",
    "\n",
    "        # Initialize residuals as the true values\n",
    "        residual = y\n",
    "\n",
    "        for _ in range(self.n_estimators):\n",
    "            # Fit a regression tree to the residuals\n",
    "            tree = DecisionTreeRegressorScratch(max_depth=self.max_depth)\n",
    "            tree.fit(X, residual)\n",
    "\n",
    "            # Get the leaf values (predictions from the tree)\n",
    "            leaf_preds = tree.predict(X)\n",
    "\n",
    "            # Update the model's predictions\n",
    "            residual -= self.learning_rate * leaf_preds\n",
    "\n",
    "            # Store the fitted tree model\n",
    "            self.models.append(tree)\n",
    "\n",
    "    def predict(self, X):\n",
    "        \"\"\"Make predictions using the ensemble of trees\"\"\"\n",
    "        X = X.apply(pd.to_numeric, errors='coerce')  # Ensure all columns are numeric\n",
    "        X = X.fillna(0)  # Handle NaN values\n",
    "\n",
    "        # Sum the predictions from each tree in the ensemble\n",
    "        y_pred = np.zeros(X.shape[0])\n",
    "        for tree in self.models:\n",
    "            y_pred += self.learning_rate * tree.predict(X)\n",
    "\n",
    "        return y_pred\n",
    "\n",
    "    def predict_proba(self, X):\n",
    "        \"\"\"Predict probabilities using the ensemble of trees\"\"\"\n",
    "        X = X.apply(pd.to_numeric, errors='coerce')  # Ensure all columns are numeric\n",
    "        X = X.fillna(0)  # Handle NaN values\n",
    "\n",
    "        # Calculate probabilities (for binary classification, adjust as needed)\n",
    "        y_pred = self.predict(X)\n",
    "        proba = 1 / (1 + np.exp(-y_pred))  # Sigmoid function for binary classification\n",
    "        return proba"
   ]
  },
  {
   "cell_type": "code",
   "execution_count": 76,
   "id": "428b1055",
   "metadata": {},
   "outputs": [],
   "source": [
    "model = CustomLGBM(n_estimators=100, learning_rate=0.1, max_depth=3)"
   ]
  },
  {
   "cell_type": "code",
   "execution_count": 77,
   "id": "e5770516",
   "metadata": {},
   "outputs": [],
   "source": [
    "# Train the model\n",
    "model.fit(X_train, y_train)"
   ]
  },
  {
   "cell_type": "code",
   "execution_count": 78,
   "id": "f4844795",
   "metadata": {},
   "outputs": [],
   "source": [
    "Y_pred_lgbm = model.predict(X_test)"
   ]
  },
  {
   "cell_type": "code",
   "execution_count": 80,
   "id": "a3641e85",
   "metadata": {},
   "outputs": [
    {
     "name": "stdout",
     "output_type": "stream",
     "text": [
      "Accuracy: 75.49%\n"
     ]
    }
   ],
   "source": [
    "Y_pred_binary = (Y_pred_lgbm >= 0.5).astype(int)\n",
    "\n",
    "# Now calculate accuracy\n",
    "from sklearn.metrics import accuracy_score\n",
    "accuracy = accuracy_score(y_test, Y_pred_binary)\n",
    "print(f\"Accuracy: {accuracy * 100:.2f}%\")"
   ]
  },
  {
   "cell_type": "code",
   "execution_count": null,
   "id": "55198928",
   "metadata": {},
   "outputs": [],
   "source": []
  },
  {
   "cell_type": "markdown",
   "id": "2554e129",
   "metadata": {},
   "source": [
    "# visualize "
   ]
  },
  {
   "cell_type": "code",
   "execution_count": 82,
   "id": "481252ac",
   "metadata": {},
   "outputs": [
    {
     "name": "stdout",
     "output_type": "stream",
     "text": [
      "\n",
      "Classification Report:\n",
      "              precision    recall  f1-score   support\n",
      "\n",
      "           0       0.75      0.79      0.77        52\n",
      "           1       0.77      0.72      0.74        50\n",
      "\n",
      "    accuracy                           0.75       102\n",
      "   macro avg       0.76      0.75      0.75       102\n",
      "weighted avg       0.76      0.75      0.75       102\n",
      "\n"
     ]
    }
   ],
   "source": [
    "from sklearn.metrics import classification_report, confusion_matrix, ConfusionMatrixDisplay\n",
    "\n",
    "print(\"\\nClassification Report:\")\n",
    "print(classification_report(y_test, Y_pred_binary))"
   ]
  },
  {
   "cell_type": "code",
   "execution_count": 84,
   "id": "a4d0d3e5",
   "metadata": {},
   "outputs": [
    {
     "data": {
      "image/png": "[encoded data removed]",
      "text/plain": [
       "<Figure size 640x480 with 2 Axes>"
      ]
     },
     "metadata": {},
     "output_type": "display_data"
    }
   ],
   "source": [
    "# Confusion Matrix\n",
    "cm = confusion_matrix(y_test, Y_pred_binary)\n",
    "\n",
    "# Display Confusion Matrix\n",
    "disp = ConfusionMatrixDisplay(confusion_matrix=cm, display_labels=['No Stone', 'Stone'])\n",
    "disp.plot(cmap='Blues')\n",
    "plt.title('Confusion Matrix')\n",
    "plt.show()"
   ]
  },
  {
   "cell_type": "code",
   "execution_count": null,
   "id": "9d2cbf18",
   "metadata": {},
   "outputs": [],
   "source": []
  },
  {
   "cell_type": "code",
   "execution_count": null,
   "id": "e8ee0542",
   "metadata": {},
   "outputs": [],
   "source": []
  },
  {
   "cell_type": "markdown",
   "id": "0f0638f1",
   "metadata": {},
   "source": [
    "# input prediction"
   ]
  },
  {
   "cell_type": "code",
   "execution_count": 43,
   "id": "06d495f0",
   "metadata": {},
   "outputs": [
    {
     "name": "stdout",
     "output_type": "stream",
     "text": [
      "Enter gravity: 1.021\n",
      "Enter ph: 4.91\n",
      "Enter osmo: 725\n",
      "Enter cond: 14.0\n",
      "Enter urea: 443\n",
      "Enter calc: 2.45\n"
     ]
    }
   ],
   "source": [
    "gravity=float(input(\"Enter gravity: \"))\n",
    "ph=float(input(\"Enter ph: \"))\n",
    "osmo=float(input(\"Enter osmo: \"))\n",
    "cond=float(input(\"Enter cond: \"))\n",
    "urea=float(input(\"Enter urea: \"))\n",
    "calc=float(input(\"Enter calc: \"))"
   ]
  },
  {
   "cell_type": "code",
   "execution_count": 44,
   "id": "528a0c9b",
   "metadata": {},
   "outputs": [],
   "source": [
    "input_data = pd.DataFrame({\n",
    "        'gravity': [gravity],\n",
    "        'osmo': [osmo],\n",
    "        'ph': [ph],\n",
    "        'cond': [cond],\n",
    "        'urea': [urea],\n",
    "        'calc': [calc]\n",
    "    })"
   ]
  },
  {
   "cell_type": "code",
   "execution_count": 45,
   "id": "0180c433",
   "metadata": {},
   "outputs": [],
   "source": [
    "prediction = model_lgbm.predict(input_data)"
   ]
  },
  {
   "cell_type": "code",
   "execution_count": 46,
   "id": "30abe0d7",
   "metadata": {},
   "outputs": [
    {
     "name": "stdout",
     "output_type": "stream",
     "text": [
      "[0]\n"
     ]
    }
   ],
   "source": [
    "print(prediction)"
   ]
  },
  {
   "cell_type": "code",
   "execution_count": 47,
   "id": "6aff4033",
   "metadata": {},
   "outputs": [
    {
     "name": "stdout",
     "output_type": "stream",
     "text": [
      "[[0.51304657 0.48695343]]\n"
     ]
    }
   ],
   "source": [
    "probability = model_lgbm.predict_proba(input_data)\n",
    "print(probability)"
   ]
  },
  {
   "cell_type": "code",
   "execution_count": 48,
   "id": "4538a5ce",
   "metadata": {},
   "outputs": [
    {
     "name": "stdout",
     "output_type": "stream",
     "text": [
      "probability no stone:  0.513046572016896\n"
     ]
    }
   ],
   "source": [
    "print(\"probability no stone: \",probability[0][0])"
   ]
  },
  {
   "cell_type": "code",
   "execution_count": 49,
   "id": "cd8d7ec2",
   "metadata": {},
   "outputs": [
    {
     "name": "stdout",
     "output_type": "stream",
     "text": [
      "probability of stone:  0.48695342798310404\n"
     ]
    }
   ],
   "source": [
    "print(\"probability of stone: \",probability[0][1])"
   ]
  },
  {
   "cell_type": "code",
   "execution_count": 50,
   "id": "a04f9dc5",
   "metadata": {},
   "outputs": [
    {
     "data": {
      "text/plain": [
       "['lgbm.joblib']"
      ]
     },
     "execution_count": 50,
     "metadata": {},
     "output_type": "execute_result"
    }
   ],
   "source": [
    "from joblib import dump, load\n",
    "# Save the best model\n",
    "dump(model_lgbm, 'lgbm.joblib')"
   ]
  },
  {
   "cell_type": "code",
   "execution_count": 51,
   "id": "281aeb3b",
   "metadata": {},
   "outputs": [],
   "source": [
    "model= load('lgbm.joblib')"
   ]
  },
  {
   "cell_type": "code",
   "execution_count": 54,
   "id": "c12c9c8f",
   "metadata": {},
   "outputs": [],
   "source": [
    "prob=model.predict_proba(input_data)"
   ]
  },
  {
   "cell_type": "code",
   "execution_count": 55,
   "id": "0206d586",
   "metadata": {},
   "outputs": [
    {
     "data": {
      "text/plain": [
       "0.513046572016896"
      ]
     },
     "execution_count": 55,
     "metadata": {},
     "output_type": "execute_result"
    }
   ],
   "source": [
    "prob[0][0]"
   ]
  },
  {
   "cell_type": "markdown",
   "id": "757efdeb",
   "metadata": {},
   "source": [
    "# Visualization"
   ]
  },
  {
   "cell_type": "code",
   "execution_count": 31,
   "id": "2807ce20",
   "metadata": {},
   "outputs": [],
   "source": [
    "results_df = pd.DataFrame({\n",
    "    'Actual': y_test.values,\n",
    "    'Predicted': Y_pred_lgbm\n",
    "})"
   ]
  },
  {
   "cell_type": "code",
   "execution_count": 34,
   "id": "9a5b2211",
   "metadata": {},
   "outputs": [],
   "source": [
    "# Create counts for Actual and Predicted\n",
    "actual_counts = results_df['Actual'].value_counts().reset_index()\n",
    "actual_counts.columns = ['Category', 'Count']\n",
    "predicted_counts = results_df['Predicted'].value_counts().reset_index()\n",
    "predicted_counts.columns = ['Category', 'Count']"
   ]
  },
  {
   "cell_type": "code",
   "execution_count": 36,
   "id": "f6f0e35e",
   "metadata": {},
   "outputs": [
    {
     "data": {
      "image/png": "[encoded data removed]",
      "text/plain": [
       "<Figure size 1200x500 with 2 Axes>"
      ]
     },
     "metadata": {},
     "output_type": "display_data"
    }
   ],
   "source": [
    "# Create side-by-side bar plots using Seaborn\n",
    "fig, axes = plt.subplots(1, 2, figsize=(12, 5), sharey=True)\n",
    "\n",
    "# Plot Predicted Categories\n",
    "sns.barplot(data=predicted_counts, x='Category', y='Count', ax=axes[0], palette='Blues_d')\n",
    "axes[0].set_title('Predicted Categories')\n",
    "axes[0].set_xlabel('Category')\n",
    "axes[0].set_ylabel('Count')\n",
    "\n",
    "# Plot Actual Categories\n",
    "sns.barplot(data=actual_counts, x='Category', y='Count', ax=axes[1], palette='Greens_d')\n",
    "axes[1].set_title('Actual Categories')\n",
    "axes[1].set_xlabel('Category')\n",
    "\n",
    "# Adjust layout to prevent overlap\n",
    "plt.tight_layout()\n",
    "\n",
    "# Show the plots\n",
    "plt.show()"
   ]
  },
  {
   "cell_type": "code",
   "execution_count": 37,
   "id": "ff20949c",
   "metadata": {},
   "outputs": [
    {
     "name": "stdout",
     "output_type": "stream",
     "text": [
      "Precision: 0.8444444444444444\n",
      "Recall: 0.76\n",
      "F1 Score: 0.8\n",
      "Classification report:               precision    recall  f1-score   support\n",
      "\n",
      "           0       0.79      0.87      0.83        52\n",
      "           1       0.84      0.76      0.80        50\n",
      "\n",
      "    accuracy                           0.81       102\n",
      "   macro avg       0.82      0.81      0.81       102\n",
      "weighted avg       0.82      0.81      0.81       102\n",
      "\n"
     ]
    }
   ],
   "source": [
    "from sklearn.metrics import precision_score, recall_score, f1_score, confusion_matrix, classification_report\n",
    "print('Precision:', precision_score(y_test, Y_pred_lgbm))\n",
    "print('Recall:', recall_score(y_test, Y_pred_lgbm))\n",
    "print('F1 Score:', f1_score(y_test, Y_pred_lgbm))\n",
    "print('Classification report:', classification_report(y_test, Y_pred_lgbm))"
   ]
  },
  {
   "cell_type": "code",
   "execution_count": 38,
   "id": "e6f1710c",
   "metadata": {},
   "outputs": [
    {
     "data": {
      "image/png": "[encoded data removed]",
      "text/plain": [
       "<Figure size 640x480 with 2 Axes>"
      ]
     },
     "metadata": {},
     "output_type": "display_data"
    }
   ],
   "source": [
    "from sklearn.metrics import confusion_matrix\n",
    "cm = confusion_matrix(y_test, model_lgbm.predict(X_test))\n",
    "\n",
    "sns.heatmap(cm, annot=True, fmt='d', cmap='BuPu')\n",
    "\n",
    "plt.xlabel('Predicted Labels')\n",
    "plt.ylabel('True Labels')\n",
    "plt.title('Confusion Matrix')\n",
    "\n",
    "plt.show()"
   ]
  },
  {
   "cell_type": "code",
   "execution_count": 39,
   "id": "e4f30ed5",
   "metadata": {},
   "outputs": [],
   "source": [
    "from sklearn.metrics import confusion_matrix\n",
    "cm = confusion_matrix(y_test, model_lgbm.predict(X_test))"
   ]
  },
  {
   "cell_type": "code",
   "execution_count": 40,
   "id": "afe7f923",
   "metadata": {},
   "outputs": [
    {
     "data": {
      "text/plain": [
       "array([[45,  7],\n",
       "       [12, 38]], dtype=int64)"
      ]
     },
     "execution_count": 40,
     "metadata": {},
     "output_type": "execute_result"
    }
   ],
   "source": [
    "cm"
   ]
  },
  {
   "cell_type": "code",
   "execution_count": null,
   "id": "8f12ad56",
   "metadata": {},
   "outputs": [],
   "source": []
  }
 ],
 "metadata": {
  "kernelspec": {
   "display_name": "Python 3 (ipykernel)",
   "language": "python",
   "name": "python3"
  },
  "language_info": {
   "codemirror_mode": {
    "name": "ipython",
    "version": 3
   },
   "file_extension": ".py",
   "mimetype": "text/x-python",
   "name": "python",
   "nbconvert_exporter": "python",
   "pygments_lexer": "ipython3",
   "version": "3.11.4"
  }
 },
 "nbformat": 4,
 "nbformat_minor": 5
}
